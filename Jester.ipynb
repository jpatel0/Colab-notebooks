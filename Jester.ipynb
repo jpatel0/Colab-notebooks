{
  "nbformat": 4,
  "nbformat_minor": 0,
  "metadata": {
    "colab": {
      "name": "Jester.pynb",
      "version": "0.3.2",
      "provenance": [],
      "collapsed_sections": [],
      "include_colab_link": true
    },
    "kernelspec": {
      "name": "python3",
      "display_name": "Python 3"
    },
    "accelerator": "GPU"
  },
  "cells": [
    {
      "cell_type": "markdown",
      "metadata": {
        "id": "view-in-github",
        "colab_type": "text"
      },
      "source": [
        "<a href=\"https://colab.research.google.com/github/jpatel0/Colab-notebooks/blob/master/Jester.ipynb\" target=\"_parent\"><img src=\"https://colab.research.google.com/assets/colab-badge.svg\" alt=\"Open In Colab\"/></a>"
      ]
    },
    {
      "cell_type": "code",
      "metadata": {
        "id": "r50esUWyEFEi",
        "colab_type": "code",
        "colab": {}
      },
      "source": [
        "import requests\n",
        "import json\n",
        "import os\n",
        "from bs4 import BeautifulSoup\n",
        "\n",
        "# Go to 20bn jester ds url and login/register to download the dataset \n",
        "# Once the links are visible save the html file(rename to ds.html)\n",
        "# Upload the html file to the colab\n",
        "\n",
        "with open('ds.html','r') as f:\n",
        "  source_code = f.read()\n",
        "\n",
        "\n",
        "\n",
        "bs = BeautifulSoup(source_code,'html.parser')\n",
        "\n",
        "\n",
        "rg_meta = bs.find_all('a')\n",
        "urls = []\n",
        "for link in rg_meta:\n",
        "  url = link.get('href')\n",
        "  if(len(url)>70 and 'md5' not in url):\n",
        "    urls.append(url)\n"
      ],
      "execution_count": 0,
      "outputs": []
    },
    {
      "cell_type": "code",
      "metadata": {
        "id": "QeDGV1Kc8E4s",
        "colab_type": "code",
        "outputId": "04adcb35-77dd-4744-d943-c8c12f8d9d2b",
        "colab": {
          "base_uri": "https://localhost:8080/",
          "height": 34
        }
      },
      "source": [
        "len(urls)"
      ],
      "execution_count": 0,
      "outputs": [
        {
          "output_type": "execute_result",
          "data": {
            "text/plain": [
              "23"
            ]
          },
          "metadata": {
            "tags": []
          },
          "execution_count": 15
        }
      ]
    },
    {
      "cell_type": "code",
      "metadata": {
        "id": "6_e-3P9I8E73",
        "colab_type": "code",
        "colab": {}
      },
      "source": [
        "import urllib\n",
        "from tqdm import tqdm\n",
        "# Copy a network object to a local file\n",
        "for i,link in tqdm(zip(range(23),urls)):\n",
        "  \n",
        "  if i<10:\n",
        "    filename = \"20bn-jester-v1-0{}\".format(i)\n",
        "  else:\n",
        "    filename = \"20bn-jester-v1-{}\".format(i)\n",
        "  print('Downloading:',filename)\n",
        "  urllib.request.urlretrieve(link, filename)\n",
        "\n"
      ],
      "execution_count": 0,
      "outputs": []
    },
    {
      "cell_type": "code",
      "metadata": {
        "id": "5MfypS1X8FA_",
        "colab_type": "code",
        "outputId": "257c204c-dcd6-421b-9182-19092d454a78",
        "colab": {
          "base_uri": "https://localhost:8080/",
          "height": 52
        }
      },
      "source": [
        ""
      ],
      "execution_count": 0,
      "outputs": [
        {
          "output_type": "stream",
          "text": [
            "Downloading: 20bn-jester-v1-22\n"
          ],
          "name": "stdout"
        },
        {
          "output_type": "execute_result",
          "data": {
            "text/plain": [
              "('20bn-jester-v1-22', <http.client.HTTPMessage at 0x7f32baaf9160>)"
            ]
          },
          "metadata": {
            "tags": []
          },
          "execution_count": 24
        }
      ]
    },
    {
      "cell_type": "code",
      "metadata": {
        "id": "hrJby42L8FEF",
        "colab_type": "code",
        "colab": {}
      },
      "source": [
        ""
      ],
      "execution_count": 0,
      "outputs": []
    },
    {
      "cell_type": "code",
      "metadata": {
        "id": "DTZRS0Q4o896",
        "colab_type": "code",
        "colab": {}
      },
      "source": [
        ""
      ],
      "execution_count": 0,
      "outputs": []
    },
    {
      "cell_type": "code",
      "metadata": {
        "id": "E7zHFMkIo9AT",
        "colab_type": "code",
        "colab": {}
      },
      "source": [
        "import os\n"
      ],
      "execution_count": 0,
      "outputs": []
    },
    {
      "cell_type": "code",
      "metadata": {
        "id": "h_cOXIeTzuaP",
        "colab_type": "code",
        "colab": {}
      },
      "source": [
        "!cat 20bn-jester-v1-?? | tar zx"
      ],
      "execution_count": 0,
      "outputs": []
    },
    {
      "cell_type": "code",
      "metadata": {
        "id": "8nnHMylToZ6Z",
        "colab_type": "code",
        "colab": {}
      },
      "source": [
        ""
      ],
      "execution_count": 0,
      "outputs": []
    },
    {
      "cell_type": "code",
      "metadata": {
        "id": "lo9O_0QKolx2",
        "colab_type": "code",
        "colab": {}
      },
      "source": [
        ""
      ],
      "execution_count": 0,
      "outputs": []
    },
    {
      "cell_type": "code",
      "metadata": {
        "id": "JExqd5YPpBVc",
        "colab_type": "code",
        "outputId": "a01a7b8e-cd67-4a4e-f8fb-b011ccf1f0cb",
        "colab": {
          "base_uri": "https://localhost:8080/",
          "height": 70
        }
      },
      "source": [
        ""
      ],
      "execution_count": 0,
      "outputs": [
        {
          "output_type": "execute_result",
          "data": {
            "text/plain": [
              "no         1482\n",
              "classes    1482\n",
              "dtype: int64"
            ]
          },
          "metadata": {
            "tags": []
          },
          "execution_count": 35
        }
      ]
    },
    {
      "cell_type": "code",
      "metadata": {
        "id": "TdYwJXUFrYJm",
        "colab_type": "code",
        "colab": {}
      },
      "source": [
        "import zipfile\n",
        "f = zipfile.ZipFile('20BN-jester.zip')\n",
        "f.extractall()"
      ],
      "execution_count": 0,
      "outputs": []
    },
    {
      "cell_type": "code",
      "metadata": {
        "id": "TiBzT1oCmKni",
        "colab_type": "code",
        "colab": {}
      },
      "source": [
        ""
      ],
      "execution_count": 0,
      "outputs": []
    },
    {
      "cell_type": "code",
      "metadata": {
        "id": "L-3DZHCpvtj-",
        "colab_type": "code",
        "colab": {}
      },
      "source": [
        ""
      ],
      "execution_count": 0,
      "outputs": []
    },
    {
      "cell_type": "code",
      "metadata": {
        "id": "Mf5Xeo0Ryml0",
        "colab_type": "code",
        "colab": {}
      },
      "source": [
        "try:\n",
        "  os.mkdir('./20BN-jester/data/model')\n",
        "  os.mkdir('./20BN-jester/data')\n",
        "  os.mkdir('./20BN-jester/data/model')\n",
        "except:\n",
        "  pass"
      ],
      "execution_count": 0,
      "outputs": []
    },
    {
      "cell_type": "code",
      "metadata": {
        "id": "vSY-oQ3Hu97d",
        "colab_type": "code",
        "colab": {}
      },
      "source": [
        "import os\n",
        "import shutil\n",
        "\n",
        "for node in os.listdir('./20BN-jester'):\n",
        "  shutil.move(os.path.join('./20BN-jester',node) , './')"
      ],
      "execution_count": 0,
      "outputs": []
    },
    {
      "cell_type": "code",
      "metadata": {
        "id": "2BMsboWOLaRB",
        "colab_type": "code",
        "outputId": "806f88fb-9ac5-440f-b698-96fe586bce15",
        "colab": {
          "base_uri": "https://localhost:8080/",
          "height": 34
        }
      },
      "source": [
        "shutil.move('./20bn-jester-v1' , './data')"
      ],
      "execution_count": 0,
      "outputs": [
        {
          "output_type": "execute_result",
          "data": {
            "text/plain": [
              "'./data/20bn-jester-v1'"
            ]
          },
          "metadata": {
            "tags": []
          },
          "execution_count": 28
        }
      ]
    },
    {
      "cell_type": "code",
      "metadata": {
        "id": "khu5qiYuL7pb",
        "colab_type": "code",
        "colab": {}
      },
      "source": [
        "from google.colab import drive\n",
        "drive.mount('/gdrive')\n",
        "%cd /gdrive"
      ],
      "execution_count": 0,
      "outputs": []
    },
    {
      "cell_type": "markdown",
      "metadata": {
        "id": "JY2GoeNWlWH0",
        "colab_type": "text"
      },
      "source": [
        ""
      ]
    },
    {
      "cell_type": "markdown",
      "metadata": {
        "id": "SOW7xsGelXr9",
        "colab_type": "text"
      },
      "source": [
        ""
      ]
    },
    {
      "cell_type": "markdown",
      "metadata": {
        "id": "-Nd4rEArlm8o",
        "colab_type": "text"
      },
      "source": [
        ""
      ]
    },
    {
      "cell_type": "code",
      "metadata": {
        "id": "-tZATZtdLqhY",
        "colab_type": "code",
        "colab": {}
      },
      "source": [
        "shutil.rmtree('./data/20bn-jester-v1')"
      ],
      "execution_count": 0,
      "outputs": []
    },
    {
      "cell_type": "code",
      "metadata": {
        "id": "fKYR0EP7k_s6",
        "colab_type": "code",
        "colab": {}
      },
      "source": [
        ""
      ],
      "execution_count": 0,
      "outputs": []
    },
    {
      "cell_type": "code",
      "metadata": {
        "id": "2ffx0zOTttiK",
        "colab_type": "code",
        "outputId": "f5454607-9608-47d1-bc6b-c4de281518cb",
        "colab": {
          "base_uri": "https://localhost:8080/",
          "height": 34
        }
      },
      "source": [
        "from shutil import copyfile\n",
        "\n",
        "copyfile('./My Drive/model.best.hdf5', './../content/data/model/3D_RESNET_101_drop_0.5/model.best.hdf5')"
      ],
      "execution_count": 0,
      "outputs": [
        {
          "output_type": "execute_result",
          "data": {
            "text/plain": [
              "'./../content/data/model/3D_RESNET_101_drop_0.5/model.best.hdf5'"
            ]
          },
          "metadata": {
            "tags": []
          },
          "execution_count": 30
        }
      ]
    },
    {
      "cell_type": "code",
      "metadata": {
        "id": "nWhiZXb16u2u",
        "colab_type": "code",
        "outputId": "170934d7-78d6-4317-b287-4cc51e1afa2a",
        "colab": {
          "base_uri": "https://localhost:8080/",
          "height": 34
        }
      },
      "source": [
        "%cd ./../content"
      ],
      "execution_count": 0,
      "outputs": [
        {
          "output_type": "stream",
          "text": [
            "/content\n"
          ],
          "name": "stdout"
        }
      ]
    },
    {
      "cell_type": "code",
      "metadata": {
        "id": "VyagY91LthzO",
        "colab_type": "code",
        "outputId": "deda84af-8580-487f-da93-999d5fb3fd67",
        "colab": {
          "base_uri": "https://localhost:8080/",
          "height": 1000
        }
      },
      "source": [
        "!python main.py --config config.cfg"
      ],
      "execution_count": 0,
      "outputs": [
        {
          "output_type": "stream",
          "text": [
            "Using TensorFlow backend.\n",
            "Found 118562 video folders belonging to 27 classes.\n",
            "Found 14787 video folders belonging to 27 classes.\n",
            "WARNING: Logging before flag parsing goes to stderr.\n",
            "W0714 12:45:12.716764 140374880438144 deprecation_wrapper.py:119] From /usr/local/lib/python3.6/dist-packages/keras/backend/tensorflow_backend.py:74: The name tf.get_default_graph is deprecated. Please use tf.compat.v1.get_default_graph instead.\n",
            "\n",
            "W0714 12:45:12.726270 140374880438144 deprecation_wrapper.py:119] From /usr/local/lib/python3.6/dist-packages/keras/backend/tensorflow_backend.py:517: The name tf.placeholder is deprecated. Please use tf.compat.v1.placeholder instead.\n",
            "\n",
            "W0714 12:45:12.728593 140374880438144 deprecation_wrapper.py:119] From /usr/local/lib/python3.6/dist-packages/keras/backend/tensorflow_backend.py:4185: The name tf.truncated_normal is deprecated. Please use tf.random.truncated_normal instead.\n",
            "\n",
            "W0714 12:45:12.815336 140374880438144 deprecation_wrapper.py:119] From /usr/local/lib/python3.6/dist-packages/keras/backend/tensorflow_backend.py:133: The name tf.placeholder_with_default is deprecated. Please use tf.compat.v1.placeholder_with_default instead.\n",
            "\n",
            "W0714 12:45:13.646474 140374880438144 deprecation.py:506] From /usr/local/lib/python3.6/dist-packages/keras/backend/tensorflow_backend.py:3445: calling dropout (from tensorflow.python.ops.nn_ops) with keep_prob is deprecated and will be removed in a future version.\n",
            "Instructions for updating:\n",
            "Please use `rate` instead of `keep_prob`. Rate should be set to `rate = 1 - keep_prob`.\n",
            "W0714 12:45:23.678938 140374880438144 deprecation_wrapper.py:119] From /usr/local/lib/python3.6/dist-packages/keras/optimizers.py:790: The name tf.train.Optimizer is deprecated. Please use tf.compat.v1.train.Optimizer instead.\n",
            "\n",
            "W0714 12:45:23.684680 140374880438144 deprecation_wrapper.py:119] From /usr/local/lib/python3.6/dist-packages/keras/backend/tensorflow_backend.py:3295: The name tf.log is deprecated. Please use tf.math.log instead.\n",
            "\n",
            "Loading weights from : data/model/3D_RESNET_101_drop_0.5/model.best.hdf5\n",
            "2019-07-14 12:45:25.014722: I tensorflow/core/platform/profile_utils/cpu_utils.cc:94] CPU Frequency: 2200000000 Hz\n",
            "2019-07-14 12:45:25.014952: I tensorflow/compiler/xla/service/service.cc:168] XLA service 0x1e5e0700 executing computations on platform Host. Devices:\n",
            "2019-07-14 12:45:25.014987: I tensorflow/compiler/xla/service/service.cc:175]   StreamExecutor device (0): <undefined>, <undefined>\n",
            "2019-07-14 12:45:25.017068: I tensorflow/stream_executor/platform/default/dso_loader.cc:42] Successfully opened dynamic library libcuda.so.1\n",
            "2019-07-14 12:45:25.190289: I tensorflow/stream_executor/cuda/cuda_gpu_executor.cc:1005] successful NUMA node read from SysFS had negative value (-1), but there must be at least one NUMA node, so returning NUMA node zero\n",
            "2019-07-14 12:45:25.190831: I tensorflow/compiler/xla/service/service.cc:168] XLA service 0x1e5e1180 executing computations on platform CUDA. Devices:\n",
            "2019-07-14 12:45:25.190866: I tensorflow/compiler/xla/service/service.cc:175]   StreamExecutor device (0): Tesla T4, Compute Capability 7.5\n",
            "2019-07-14 12:45:25.191093: I tensorflow/stream_executor/cuda/cuda_gpu_executor.cc:1005] successful NUMA node read from SysFS had negative value (-1), but there must be at least one NUMA node, so returning NUMA node zero\n",
            "2019-07-14 12:45:25.191459: I tensorflow/core/common_runtime/gpu/gpu_device.cc:1640] Found device 0 with properties: \n",
            "name: Tesla T4 major: 7 minor: 5 memoryClockRate(GHz): 1.59\n",
            "pciBusID: 0000:00:04.0\n",
            "2019-07-14 12:45:25.191824: I tensorflow/stream_executor/platform/default/dso_loader.cc:42] Successfully opened dynamic library libcudart.so.10.0\n",
            "2019-07-14 12:45:25.193205: I tensorflow/stream_executor/platform/default/dso_loader.cc:42] Successfully opened dynamic library libcublas.so.10.0\n",
            "2019-07-14 12:45:25.194699: I tensorflow/stream_executor/platform/default/dso_loader.cc:42] Successfully opened dynamic library libcufft.so.10.0\n",
            "2019-07-14 12:45:25.195292: I tensorflow/stream_executor/platform/default/dso_loader.cc:42] Successfully opened dynamic library libcurand.so.10.0\n",
            "2019-07-14 12:45:25.197171: I tensorflow/stream_executor/platform/default/dso_loader.cc:42] Successfully opened dynamic library libcusolver.so.10.0\n",
            "2019-07-14 12:45:25.198313: I tensorflow/stream_executor/platform/default/dso_loader.cc:42] Successfully opened dynamic library libcusparse.so.10.0\n",
            "2019-07-14 12:45:25.201681: I tensorflow/stream_executor/platform/default/dso_loader.cc:42] Successfully opened dynamic library libcudnn.so.7\n",
            "2019-07-14 12:45:25.201800: I tensorflow/stream_executor/cuda/cuda_gpu_executor.cc:1005] successful NUMA node read from SysFS had negative value (-1), but there must be at least one NUMA node, so returning NUMA node zero\n",
            "2019-07-14 12:45:25.202182: I tensorflow/stream_executor/cuda/cuda_gpu_executor.cc:1005] successful NUMA node read from SysFS had negative value (-1), but there must be at least one NUMA node, so returning NUMA node zero\n",
            "2019-07-14 12:45:25.202511: I tensorflow/core/common_runtime/gpu/gpu_device.cc:1763] Adding visible gpu devices: 0\n",
            "2019-07-14 12:45:25.202582: I tensorflow/stream_executor/platform/default/dso_loader.cc:42] Successfully opened dynamic library libcudart.so.10.0\n",
            "2019-07-14 12:45:25.203394: I tensorflow/core/common_runtime/gpu/gpu_device.cc:1181] Device interconnect StreamExecutor with strength 1 edge matrix:\n",
            "2019-07-14 12:45:25.203418: I tensorflow/core/common_runtime/gpu/gpu_device.cc:1187]      0 \n",
            "2019-07-14 12:45:25.203430: I tensorflow/core/common_runtime/gpu/gpu_device.cc:1200] 0:   N \n",
            "2019-07-14 12:45:25.203745: I tensorflow/stream_executor/cuda/cuda_gpu_executor.cc:1005] successful NUMA node read from SysFS had negative value (-1), but there must be at least one NUMA node, so returning NUMA node zero\n",
            "2019-07-14 12:45:25.204135: I tensorflow/stream_executor/cuda/cuda_gpu_executor.cc:1005] successful NUMA node read from SysFS had negative value (-1), but there must be at least one NUMA node, so returning NUMA node zero\n",
            "2019-07-14 12:45:25.204486: W tensorflow/core/common_runtime/gpu/gpu_bfc_allocator.cc:40] Overriding allow_growth setting because the TF_FORCE_GPU_ALLOW_GROWTH environment variable is set. Original config value was 0.\n",
            "2019-07-14 12:45:25.204534: I tensorflow/core/common_runtime/gpu/gpu_device.cc:1326] Created TensorFlow device (/job:localhost/replica:0/task:0/device:GPU:0 with 14202 MB memory) -> physical GPU (device: 0, name: Tesla T4, pci bus id: 0000:00:04.0, compute capability: 7.5)\n",
            "W0714 12:45:32.403248 140374880438144 deprecation.py:323] From /usr/local/lib/python3.6/dist-packages/tensorflow/python/ops/math_grad.py:1250: add_dispatch_support.<locals>.wrapper (from tensorflow.python.ops.array_ops) is deprecated and will be removed in a future version.\n",
            "Instructions for updating:\n",
            "Use tf.where in 2.0, which has the same broadcast rule as np.where\n",
            "/usr/local/lib/python3.6/dist-packages/keras/engine/training_generator.py:47: UserWarning: Using a generator with `use_multiprocessing=True` and multiple workers may duplicate your data. Please consider using the`keras.utils.Sequence class.\n",
            "  UserWarning('Using a generator with `use_multiprocessing=True`'\n",
            "Epoch 1/50\n",
            "2019-07-14 12:46:27.621524: I tensorflow/stream_executor/platform/default/dso_loader.cc:42] Successfully opened dynamic library libcublas.so.10.0\n",
            "2019-07-14 12:46:28.002035: I tensorflow/stream_executor/platform/default/dso_loader.cc:42] Successfully opened dynamic library libcudnn.so.7\n",
            "3706/3706 [==============================] - 2150s 580ms/step - loss: 5.7535 - acc: 0.7081 - val_loss: 6.0275 - val_acc: 0.5975\n",
            "\n",
            "Epoch 00001: val_acc improved from -inf to 0.59746, saving model to data/model/3D_RESNET_101_drop_0.5/model.best.hdf5\n",
            "Epoch 2/50\n",
            "3706/3706 [==============================] - 2124s 573ms/step - loss: 5.1699 - acc: 0.7483 - val_loss: 5.1795 - val_acc: 0.7173\n",
            "\n",
            "Epoch 00002: val_acc improved from 0.59746 to 0.71733, saving model to data/model/3D_RESNET_101_drop_0.5/model.best.hdf5\n",
            "Epoch 3/50\n",
            "3706/3706 [==============================] - 2125s 573ms/step - loss: 4.7582 - acc: 0.7733 - val_loss: 4.7113 - val_acc: 0.7520\n",
            "\n",
            "Epoch 00003: val_acc improved from 0.71733 to 0.75202, saving model to data/model/3D_RESNET_101_drop_0.5/model.best.hdf5\n",
            "Epoch 4/50\n",
            "3706/3706 [==============================] - 2134s 576ms/step - loss: 4.4474 - acc: 0.7929 - val_loss: 4.5975 - val_acc: 0.7216\n",
            "\n",
            "Epoch 00004: val_acc did not improve from 0.75202\n",
            "Epoch 5/50\n",
            "3706/3706 [==============================] - 2134s 576ms/step - loss: 4.1367 - acc: 0.8265 - val_loss: 4.2221 - val_acc: 0.7871\n",
            "\n",
            "Epoch 00005: val_acc improved from 0.75202 to 0.78711, saving model to data/model/3D_RESNET_101_drop_0.5/model.best.hdf5\n",
            "Epoch 6/50\n",
            "3706/3706 [==============================] - 2153s 581ms/step - loss: 3.9399 - acc: 0.8344 - val_loss: 4.1350 - val_acc: 0.7577\n",
            "\n",
            "Epoch 00006: val_acc did not improve from 0.78711\n",
            "Epoch 7/50\n",
            "3706/3706 [==============================] - 2156s 582ms/step - loss: 3.7782 - acc: 0.8385 - val_loss: 3.8394 - val_acc: 0.8083\n",
            "\n",
            "Epoch 00007: val_acc improved from 0.78711 to 0.80832, saving model to data/model/3D_RESNET_101_drop_0.5/model.best.hdf5\n",
            "Epoch 8/50\n",
            " 971/3706 [======>.......................] - ETA: 24:40 - loss: 3.7022 - acc: 0.8368"
          ],
          "name": "stdout"
        }
      ]
    },
    {
      "cell_type": "code",
      "metadata": {
        "id": "AqF6HKIfJo25",
        "colab_type": "code",
        "outputId": "56d27709-9588-4b64-c8b8-477ff1b9e8bc",
        "colab": {
          "base_uri": "https://localhost:8080/",
          "height": 34
        }
      },
      "source": [
        "  # Install the PyDrive wrapper & import libraries.\n",
        "# This only needs to be done once in a notebook.\n",
        "!pip install -U -q PyDrive\n",
        "from pydrive.auth import GoogleAuth\n",
        "from pydrive.drive import GoogleDrive\n",
        "from google.colab import auth\n",
        "from oauth2client.client import GoogleCredentials\n",
        "\n",
        "# Authenticate and create the PyDrive client.\n",
        "# This only needs to be done once in a notebook.\n",
        "auth.authenticate_user()\n",
        "gauth = GoogleAuth()\n",
        "gauth.credentials = GoogleCredentials.get_application_default()\n",
        "drive = GoogleDrive(gauth)\n",
        "\n",
        "# Create & upload a text file.\n",
        "uploaded = drive.CreateFile({'title': 'model.best.hdf5'})\n",
        "uploaded.SetContentFile('./data/model/3D_RESNET_101_drop_0.5/model.best.hdf5')\n",
        "uploaded.Upload()\n",
        "print('Uploaded file with ID {}'.format(uploaded.get('id')))"
      ],
      "execution_count": 0,
      "outputs": [
        {
          "output_type": "stream",
          "text": [
            "Uploaded file with ID 1XaYwBkRKLBSMoK4cCWFAHK4nqJ7aModI\n"
          ],
          "name": "stdout"
        }
      ]
    },
    {
      "cell_type": "code",
      "metadata": {
        "id": "6jdal-hmbxVl",
        "colab_type": "code",
        "colab": {}
      },
      "source": [
        ""
      ],
      "execution_count": 0,
      "outputs": []
    },
    {
      "cell_type": "code",
      "metadata": {
        "id": "e8aJIKoNTznG",
        "colab_type": "code",
        "outputId": "5fb4fdfd-4599-417d-8e8b-bf344f78ea74",
        "colab": {
          "base_uri": "https://localhost:8080/",
          "height": 318
        }
      },
      "source": [
        "!nvidia-smi"
      ],
      "execution_count": 0,
      "outputs": [
        {
          "output_type": "stream",
          "text": [
            "Sun Jul 14 10:01:33 2019       \n",
            "+-----------------------------------------------------------------------------+\n",
            "| NVIDIA-SMI 418.67       Driver Version: 410.79       CUDA Version: 10.0     |\n",
            "|-------------------------------+----------------------+----------------------+\n",
            "| GPU  Name        Persistence-M| Bus-Id        Disp.A | Volatile Uncorr. ECC |\n",
            "| Fan  Temp  Perf  Pwr:Usage/Cap|         Memory-Usage | GPU-Util  Compute M. |\n",
            "|===============================+======================+======================|\n",
            "|   0  Tesla T4            Off  | 00000000:00:04.0 Off |                    0 |\n",
            "| N/A   61C    P8    16W /  70W |      0MiB / 15079MiB |      0%      Default |\n",
            "+-------------------------------+----------------------+----------------------+\n",
            "                                                                               \n",
            "+-----------------------------------------------------------------------------+\n",
            "| Processes:                                                       GPU Memory |\n",
            "|  GPU       PID   Type   Process name                             Usage      |\n",
            "|=============================================================================|\n",
            "|  No running processes found                                                 |\n",
            "+-----------------------------------------------------------------------------+\n"
          ],
          "name": "stdout"
        }
      ]
    },
    {
      "cell_type": "code",
      "metadata": {
        "id": "cs8FvhM9bxJn",
        "colab_type": "code",
        "colab": {}
      },
      "source": [
        ""
      ],
      "execution_count": 0,
      "outputs": []
    },
    {
      "cell_type": "code",
      "metadata": {
        "id": "bz-cH0y-bw6i",
        "colab_type": "code",
        "colab": {}
      },
      "source": [
        ""
      ],
      "execution_count": 0,
      "outputs": []
    },
    {
      "cell_type": "code",
      "metadata": {
        "id": "j5bsNpAHTx8s",
        "colab_type": "code",
        "colab": {}
      },
      "source": [
        ""
      ],
      "execution_count": 0,
      "outputs": []
    }
  ]
}