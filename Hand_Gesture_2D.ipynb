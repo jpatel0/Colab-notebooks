{
  "nbformat": 4,
  "nbformat_minor": 0,
  "metadata": {
    "colab": {
      "name": "Hand Gesture 2D.ipynb",
      "version": "0.3.2",
      "provenance": [],
      "collapsed_sections": [],
      "include_colab_link": true
    },
    "kernelspec": {
      "name": "python3",
      "display_name": "Python 3"
    },
    "accelerator": "GPU"
  },
  "cells": [
    {
      "cell_type": "markdown",
      "metadata": {
        "id": "view-in-github",
        "colab_type": "text"
      },
      "source": [
        "<a href=\"https://colab.research.google.com/github/jpatel0/Colab-notebooks/blob/master/Hand_Gesture_2D.ipynb\" target=\"_parent\"><img src=\"https://colab.research.google.com/assets/colab-badge.svg\" alt=\"Open In Colab\"/></a>"
      ]
    },
    {
      "cell_type": "code",
      "metadata": {
        "id": "eOkz84krQ_Nd",
        "colab_type": "code",
        "outputId": "48f5398d-e203-4bc6-c331-ba23cb00ede7",
        "colab": {
          "base_uri": "https://localhost:8080/",
          "height": 212
        }
      },
      "source": [
        "!wget \"http://www.ee.oulu.fi/research/imag/Ouhands/OUHANDS_train.tar.gz\""
      ],
      "execution_count": 0,
      "outputs": [
        {
          "output_type": "stream",
          "text": [
            "--2019-07-13 03:50:56--  http://www.ee.oulu.fi/research/imag/Ouhands/OUHANDS_train.tar.gz\n",
            "Resolving www.ee.oulu.fi (www.ee.oulu.fi)... 130.231.61.28, 2001:708:520:80::28\n",
            "Connecting to www.ee.oulu.fi (www.ee.oulu.fi)|130.231.61.28|:80... connected.\n",
            "HTTP request sent, awaiting response... 200 OK\n",
            "Length: 2631089581 (2.5G) [application/x-gzip]\n",
            "Saving to: ‘OUHANDS_train.tar.gz’\n",
            "\n",
            "OUHANDS_train.tar.g 100%[===================>]   2.45G  19.5MB/s    in 2m 26s  \n",
            "\n",
            "2019-07-13 03:53:22 (17.2 MB/s) - ‘OUHANDS_train.tar.gz’ saved [2631089581/2631089581]\n",
            "\n"
          ],
          "name": "stdout"
        }
      ]
    },
    {
      "cell_type": "code",
      "metadata": {
        "id": "jFHMRU_iRlMH",
        "colab_type": "code",
        "colab": {}
      },
      "source": [
        "import os\n",
        "import zipfile\n",
        "import tensorflow as tf\n",
        "from tensorflow import keras\n",
        "from tensorflow.keras.preprocessing import image\n",
        "from tensorflow.keras.preprocessing.image import ImageDataGenerator\n",
        "import numpy as np\n",
        "import cv2\n",
        "from sklearn.utils import shuffle\n",
        "import pandas as pd"
      ],
      "execution_count": 0,
      "outputs": []
    },
    {
      "cell_type": "code",
      "metadata": {
        "id": "egPHFwit8TqK",
        "colab_type": "code",
        "colab": {}
      },
      "source": [
        "from google.colab import drive\n",
        "drive.mount('/content/drive')"
      ],
      "execution_count": 0,
      "outputs": []
    },
    {
      "cell_type": "code",
      "metadata": {
        "id": "T5CARc8F8eed",
        "colab_type": "code",
        "colab": {}
      },
      "source": [
        ""
      ],
      "execution_count": 0,
      "outputs": []
    },
    {
      "cell_type": "code",
      "metadata": {
        "id": "J-ToL8Fz95xH",
        "colab_type": "code",
        "colab": {}
      },
      "source": [
        "!pip install -U -q PyDrive\n",
        "from pydrive.auth import GoogleAuth\n",
        "from pydrive.drive import GoogleDrive\n",
        "from google.colab import auth\n",
        "from oauth2client.client import GoogleCredentials\n",
        "\n",
        "# 1. Authenticate and create the PyDrive client.\n",
        "auth.authenticate_user()\n",
        "gauth = GoogleAuth()\n",
        "gauth.credentials = GoogleCredentials.get_application_default()\n",
        "drive = GoogleDrive(gauth)\n",
        "\n",
        "# 2. Save Keras Model or weights on google drive\n",
        "\n",
        "# create on Colab directory\n",
        "model.save('model.h5')    \n",
        "model_file = drive.CreateFile({'title' : 'sign93.h5'})\n",
        "model_file.SetContentFile('signs.h5')\n",
        "model_file.Upload()\n",
        "\n",
        "# download to google drive\n",
        "drive.CreateFile({'id': model_file.get('id')})"
      ],
      "execution_count": 0,
      "outputs": []
    },
    {
      "cell_type": "code",
      "metadata": {
        "id": "sccw5kicYhRp",
        "colab_type": "code",
        "colab": {}
      },
      "source": [
        "!tar xvf OUHANDS_train.tar.gz"
      ],
      "execution_count": 0,
      "outputs": []
    },
    {
      "cell_type": "code",
      "metadata": {
        "id": "gLXToRpf7wgm",
        "colab_type": "code",
        "colab": {}
      },
      "source": [
        "def loadtrain():\n",
        "  with open('./data_split_for_intermediate_tests/training_files.txt','r') as f:\n",
        "    trainlst = f.read().split('\\n')\n",
        "  img_dir = './train/hand_data/colour'\n",
        "  trainimages = []\n",
        "  labels = []\n",
        "  for imagename in trainlst:\n",
        "    if(len(imagename)>4):\n",
        "      im = image.load_img(os.path.join(img_dir,imagename))\n",
        "      im = image.img_to_array(im)\n",
        "      im = cv2.resize(im,(299,299))\n",
        "      im = im/255.0\n",
        "      trainimages.append(im)\n",
        "      if(imagename.startswith('A')):\n",
        "        labels.append(0)\n",
        "      elif(imagename.startswith('B')):\n",
        "        labels.append(1)\n",
        "      elif(imagename.startswith('C')):\n",
        "        labels.append(2)\n",
        "      elif(imagename.startswith('D')):\n",
        "        labels.append(3)\n",
        "      elif(imagename.startswith('E')):\n",
        "        labels.append(4)\n",
        "      elif(imagename.startswith('F')):\n",
        "        labels.append(5)\n",
        "      elif(imagename.startswith('H')):\n",
        "        labels.append(6)\n",
        "      elif(imagename.startswith('I')):\n",
        "        labels.append(7)\n",
        "      elif(imagename.startswith('J')):\n",
        "        labels.append(8)\n",
        "      elif(imagename.startswith('K')):\n",
        "        labels.append(9)\n",
        "      \n",
        "  return np.array(trainimages),np.array(labels)"
      ],
      "execution_count": 0,
      "outputs": []
    },
    {
      "cell_type": "code",
      "metadata": {
        "id": "VHlKGSyseBj-",
        "colab_type": "code",
        "colab": {}
      },
      "source": [
        "def loadval():\n",
        "  with open('./data_split_for_intermediate_tests/validation_files.txt','r') as f:\n",
        "    trainlst = f.read().split('\\n')\n",
        "  img_dir = './train/hand_data/colour'\n",
        "  trainimages = []\n",
        "  labels = []\n",
        "  for imagename in trainlst:\n",
        "    if(len(imagename)>4):\n",
        "      im = image.load_img(os.path.join(img_dir,imagename))\n",
        "      im = image.img_to_array(im)\n",
        "      im = cv2.resize(im,(299,299))\n",
        "      im = im/255.0\n",
        "      trainimages.append(im)\n",
        "      if(imagename.startswith('A')):\n",
        "        labels.append(0)\n",
        "      elif(imagename.startswith('B')):\n",
        "        labels.append(1)\n",
        "      elif(imagename.startswith('C')):\n",
        "        labels.append(2)\n",
        "      elif(imagename.startswith('D')):\n",
        "        labels.append(3)\n",
        "      elif(imagename.startswith('E')):\n",
        "        labels.append(4)\n",
        "      elif(imagename.startswith('F')):\n",
        "        labels.append(5)\n",
        "      elif(imagename.startswith('H')):\n",
        "        labels.append(6)\n",
        "      elif(imagename.startswith('I')):\n",
        "        labels.append(7)\n",
        "      elif(imagename.startswith('J')):\n",
        "        labels.append(8)\n",
        "      elif(imagename.startswith('K')):\n",
        "        labels.append(9)\n",
        "      \n",
        "  return np.array(trainimages),np.array(labels)"
      ],
      "execution_count": 0,
      "outputs": []
    },
    {
      "cell_type": "code",
      "metadata": {
        "id": "Uhpeok6uaeGh",
        "colab_type": "code",
        "colab": {}
      },
      "source": [
        "X,y = loadtrain()"
      ],
      "execution_count": 0,
      "outputs": []
    },
    {
      "cell_type": "code",
      "metadata": {
        "id": "DnPfnCDrJR0O",
        "colab_type": "code",
        "colab": {}
      },
      "source": [
        "traindf = pd.read_csv('./data_split_for_intermediate_tests/training_files.txt')"
      ],
      "execution_count": 0,
      "outputs": []
    },
    {
      "cell_type": "code",
      "metadata": {
        "id": "pemRQubftMqy",
        "colab_type": "code",
        "colab": {}
      },
      "source": [
        "traindf.columns = ['filename']"
      ],
      "execution_count": 0,
      "outputs": []
    },
    {
      "cell_type": "code",
      "metadata": {
        "id": "NN-i1mnCwD3F",
        "colab_type": "code",
        "colab": {}
      },
      "source": [
        "def makedirs(dirct):\n",
        "  os.mkdir(os.path.join(dirct,'a'))\n",
        "  os.mkdir(os.path.join(dirct,'b'))\n",
        "  os.mkdir(os.path.join(dirct,'c'))\n",
        "  os.mkdir(os.path.join(dirct,'d'))\n",
        "  os.mkdir(os.path.join(dirct,'e'))\n",
        "  os.mkdir(os.path.join(dirct,'f'))\n",
        "  os.mkdir(os.path.join(dirct,'h'))\n",
        "  os.mkdir(os.path.join(dirct,'i'))\n",
        "  os.mkdir(os.path.join(dirct,'j'))\n",
        "  os.mkdir(os.path.join(dirct,'k'))\n",
        "  os.mkdir(os.path.join(dirct,'nothing'))"
      ],
      "execution_count": 0,
      "outputs": []
    },
    {
      "cell_type": "code",
      "metadata": {
        "id": "fafFWzMItMuV",
        "colab_type": "code",
        "colab": {}
      },
      "source": [
        "def buildtrainfolders():\n",
        "  direc = './train/hand_data/colour'\n",
        "  try:\n",
        "    makedirs(direc)\n",
        "  except:\n",
        "    pass\n",
        "  with open('./data_split_for_intermediate_tests/training_files.txt','r') as f:\n",
        "    images = f.read().split('\\n')\n",
        "    images.pop(-1)\n",
        "  for imagename in images:\n",
        "    if(imagename.startswith('A')):\n",
        "      os.rename(os.path.join(direc,imagename),os.path.join('./train/hand_data/colour/a',imagename))\n",
        "    elif(imagename.startswith('B')):\n",
        "      os.rename(os.path.join(direc,imagename),os.path.join('./train/hand_data/colour/b',imagename))\n",
        "    elif(imagename.startswith('C')):\n",
        "      os.rename(os.path.join(direc,imagename),os.path.join('./train/hand_data/colour/c',imagename))\n",
        "    elif(imagename.startswith('D')):\n",
        "      os.rename(os.path.join(direc,imagename),os.path.join('./train/hand_data/colour/d',imagename))\n",
        "    elif(imagename.startswith('E')):\n",
        "      os.rename(os.path.join(direc,imagename),os.path.join('./train/hand_data/colour/e',imagename))\n",
        "    elif(imagename.startswith('F')):\n",
        "      os.rename(os.path.join(direc,imagename),os.path.join('./train/hand_data/colour/f',imagename))\n",
        "    elif(imagename.startswith('H')):\n",
        "      os.rename(os.path.join(direc,imagename),os.path.join('./train/hand_data/colour/h',imagename))\n",
        "    elif(imagename.startswith('I')):\n",
        "      os.rename(os.path.join(direc,imagename),os.path.join('./train/hand_data/colour/i',imagename))\n",
        "    elif(imagename.startswith('J')):\n",
        "      os.rename(os.path.join(direc,imagename),os.path.join('./train/hand_data/colour/j',imagename))\n",
        "    elif(imagename.startswith('K')):\n",
        "      os.rename(os.path.join(direc,imagename),os.path.join('./train/hand_data/colour/k',imagename))\n",
        "  for img in os.listdir('./train/negative_data/colour')[:3300]:\n",
        "    path = os.path.join('./train/negative_data/colour',img)\n",
        "    os.rename(path,os.path.join('./train/hand_data/colour/nothing',img))"
      ],
      "execution_count": 0,
      "outputs": []
    },
    {
      "cell_type": "code",
      "metadata": {
        "id": "YxsFLvg92VXV",
        "colab_type": "code",
        "colab": {}
      },
      "source": [
        "import shutil\n",
        "shutil.rmtree(\"./train\")\n",
        "shutil.rmtree(\"./data_split_for_intermediate_tests\")"
      ],
      "execution_count": 0,
      "outputs": []
    },
    {
      "cell_type": "code",
      "metadata": {
        "id": "xDg_av6ktMws",
        "colab_type": "code",
        "colab": {}
      },
      "source": [
        "def buildvalfolders():\n",
        "  direc = './train/hand_data/colour'\n",
        "  try:\n",
        "    os.mkdir('val')\n",
        "    makedirs('./val')\n",
        "  except:\n",
        "    pass\n",
        "  with open('./data_split_for_intermediate_tests/validation_files.txt','r') as f:\n",
        "    images = f.read().split('\\n')\n",
        "    images.pop(-1)\n",
        "  for imagename in images:\n",
        "    if(imagename.startswith('A')):\n",
        "      os.rename(os.path.join(direc,imagename),os.path.join('./val/a',imagename))\n",
        "    elif(imagename.startswith('B')):\n",
        "      os.rename(os.path.join(direc,imagename),os.path.join('./val/b',imagename))\n",
        "    elif(imagename.startswith('C')):\n",
        "      os.rename(os.path.join(direc,imagename),os.path.join('./val/c',imagename))\n",
        "    elif(imagename.startswith('D')):\n",
        "      os.rename(os.path.join(direc,imagename),os.path.join('./val/d',imagename))\n",
        "    elif(imagename.startswith('E')):\n",
        "      os.rename(os.path.join(direc,imagename),os.path.join('./val/e',imagename))\n",
        "    elif(imagename.startswith('F')):\n",
        "      os.rename(os.path.join(direc,imagename),os.path.join('./val/f',imagename))\n",
        "    elif(imagename.startswith('H')):\n",
        "      os.rename(os.path.join(direc,imagename),os.path.join('./val/h',imagename))\n",
        "    elif(imagename.startswith('I')):\n",
        "      os.rename(os.path.join(direc,imagename),os.path.join('./val/i',imagename))\n",
        "    elif(imagename.startswith('J')):\n",
        "      os.rename(os.path.join(direc,imagename),os.path.join('./val/j',imagename))\n",
        "    elif(imagename.startswith('K')):\n",
        "      os.rename(os.path.join(direc,imagename),os.path.join('./val/k',imagename))\n",
        "  for img in os.listdir('./train/negative_data/colour'):\n",
        "    path = os.path.join('./train/negative_data/colour',img)\n",
        "    os.rename(path,os.path.join('./val/nothing',img))\n",
        "  "
      ],
      "execution_count": 0,
      "outputs": []
    },
    {
      "cell_type": "code",
      "metadata": {
        "id": "yGsuTeaK3jLS",
        "colab_type": "code",
        "colab": {}
      },
      "source": [
        ""
      ],
      "execution_count": 0,
      "outputs": []
    },
    {
      "cell_type": "code",
      "metadata": {
        "id": "9JCqiLRO3jTV",
        "colab_type": "code",
        "colab": {}
      },
      "source": [
        ""
      ],
      "execution_count": 0,
      "outputs": []
    },
    {
      "cell_type": "code",
      "metadata": {
        "id": "XJcJrOR-3jY5",
        "colab_type": "code",
        "colab": {}
      },
      "source": [
        "buildtrainfolders()"
      ],
      "execution_count": 0,
      "outputs": []
    },
    {
      "cell_type": "code",
      "metadata": {
        "id": "9lm0NVl4tMzI",
        "colab_type": "code",
        "colab": {}
      },
      "source": [
        "buildvalfolders()"
      ],
      "execution_count": 0,
      "outputs": []
    },
    {
      "cell_type": "code",
      "metadata": {
        "id": "pZcd351BeC8I",
        "colab_type": "code",
        "colab": {}
      },
      "source": [
        "X_train,y_train = shuffle(X,y)"
      ],
      "execution_count": 0,
      "outputs": []
    },
    {
      "cell_type": "code",
      "metadata": {
        "id": "WsyKTrsZCFku",
        "colab_type": "code",
        "colab": {}
      },
      "source": [
        "img_height=299\n",
        "img_width=299\n",
        "batch_size=32\n",
        "X=[]\n",
        "y=[]"
      ],
      "execution_count": 0,
      "outputs": []
    },
    {
      "cell_type": "code",
      "metadata": {
        "id": "1feXai297wnJ",
        "colab_type": "code",
        "colab": {}
      },
      "source": [
        "val_x,val_y = loadval()"
      ],
      "execution_count": 0,
      "outputs": []
    },
    {
      "cell_type": "code",
      "metadata": {
        "id": "Bq0QgCY49tCu",
        "colab_type": "code",
        "colab": {}
      },
      "source": [
        "X_test, y_test = shuffle(val_x,val_y)"
      ],
      "execution_count": 0,
      "outputs": []
    },
    {
      "cell_type": "code",
      "metadata": {
        "id": "S_ZBz62cXNNM",
        "colab_type": "code",
        "colab": {}
      },
      "source": [
        "val_x=[]\n",
        "val_y=[]"
      ],
      "execution_count": 0,
      "outputs": []
    },
    {
      "cell_type": "markdown",
      "metadata": {
        "id": "7SCOGkA8XMss",
        "colab_type": "text"
      },
      "source": [
        ""
      ]
    },
    {
      "cell_type": "code",
      "metadata": {
        "id": "ycwYyYqaC27S",
        "colab_type": "code",
        "outputId": "3d8ff7f2-5944-4780-9297-f79f1467cc53",
        "colab": {
          "base_uri": "https://localhost:8080/",
          "height": 52
        }
      },
      "source": [
        "train_data_dir = \"./train/hand_data/colour\"\n",
        "val_data_dir = \"./val\"\n",
        "img_height=299\n",
        "img_width=299\n",
        "batch_size=32\n",
        "\n",
        "train_datagen = ImageDataGenerator(rescale=1./255,\n",
        "    shear_range=0.2,horizontal_flip=True,rotation_range=20)\n",
        "\n",
        "val_datagen = ImageDataGenerator(rescale=1./255)\n",
        " \n",
        "\n",
        "train_generator = train_datagen.flow_from_directory(\n",
        "    train_data_dir,\n",
        "    target_size=(img_height, img_width),\n",
        "    batch_size=batch_size,\n",
        "    class_mode='categorical',\n",
        "    shuffle=True) \n",
        "\n",
        "validation_generator = val_datagen.flow_from_directory(\n",
        "    val_data_dir, \n",
        "    target_size=(img_height, img_width),\n",
        "    batch_size=batch_size,\n",
        "    class_mode='categorical',\n",
        "    shuffle=True) "
      ],
      "execution_count": 5,
      "outputs": [
        {
          "output_type": "stream",
          "text": [
            "Found 4900 images belonging to 11 classes.\n",
            "Found 512 images belonging to 11 classes.\n"
          ],
          "name": "stdout"
        }
      ]
    },
    {
      "cell_type": "code",
      "metadata": {
        "id": "eFntRvL_GeyP",
        "colab_type": "code",
        "outputId": "af9d1337-2da9-4dd5-8a24-4302317de17a",
        "colab": {
          "base_uri": "https://localhost:8080/",
          "height": 107
        }
      },
      "source": [
        "IMG_SHAPE = (img_height, img_width, 3)\n",
        "\n",
        "base_model = tf.keras.applications.Xception(input_shape=IMG_SHAPE,\n",
        "                                               include_top=False,\n",
        "                                               weights='imagenet')"
      ],
      "execution_count": 6,
      "outputs": [
        {
          "output_type": "stream",
          "text": [
            "WARNING: Logging before flag parsing goes to stderr.\n",
            "W0713 06:30:25.858845 140549613578112 deprecation.py:506] From /usr/local/lib/python3.6/dist-packages/tensorflow/python/ops/init_ops.py:1251: calling VarianceScaling.__init__ (from tensorflow.python.ops.init_ops) with dtype is deprecated and will be removed in a future version.\n",
            "Instructions for updating:\n",
            "Call initializer instance with the dtype argument instead of passing it to the constructor\n"
          ],
          "name": "stderr"
        }
      ]
    },
    {
      "cell_type": "code",
      "metadata": {
        "id": "NqwGQeCeGyL-",
        "colab_type": "code",
        "colab": {}
      },
      "source": [
        "base_model.trainable = False"
      ],
      "execution_count": 0,
      "outputs": []
    },
    {
      "cell_type": "code",
      "metadata": {
        "id": "u644UOZC6dzA",
        "colab_type": "code",
        "colab": {}
      },
      "source": [
        "base_model.summary()"
      ],
      "execution_count": 0,
      "outputs": []
    },
    {
      "cell_type": "code",
      "metadata": {
        "id": "udpZkuwPLc5z",
        "colab_type": "code",
        "colab": {}
      },
      "source": [
        ""
      ],
      "execution_count": 0,
      "outputs": []
    },
    {
      "cell_type": "code",
      "metadata": {
        "id": "lSZ54G6THP5l",
        "colab_type": "code",
        "colab": {}
      },
      "source": [
        "model = tf.keras.Sequential([\n",
        "  base_model,\n",
        "  keras.layers.GlobalAveragePooling2D(),\n",
        "  keras.layers.Dense(1024, activation='relu'),\n",
        "  keras.layers.Dense(512, activation='relu'),\n",
        "  keras.layers.Dense(11, activation='sigmoid')\n",
        "])"
      ],
      "execution_count": 0,
      "outputs": []
    },
    {
      "cell_type": "code",
      "metadata": {
        "id": "y1fkWxiMKzsm",
        "colab_type": "code",
        "colab": {}
      },
      "source": [
        ""
      ],
      "execution_count": 0,
      "outputs": []
    },
    {
      "cell_type": "code",
      "metadata": {
        "id": "CZdtAYeEHZQv",
        "colab_type": "code",
        "colab": {}
      },
      "source": [
        "model.compile(optimizer=tf.keras.optimizers.Adam(0.001),\n",
        "              loss='categorical_crossentropy',\n",
        "              metrics=['accuracy'])"
      ],
      "execution_count": 0,
      "outputs": []
    },
    {
      "cell_type": "code",
      "metadata": {
        "id": "C5KrAGq7Axfi",
        "colab_type": "code",
        "colab": {}
      },
      "source": [
        "model.summary()"
      ],
      "execution_count": 0,
      "outputs": []
    },
    {
      "cell_type": "code",
      "metadata": {
        "id": "IjYeXdwsFM4n",
        "colab_type": "code",
        "outputId": "5c6d39f3-4948-4e15-c2f6-505a37e9673d",
        "colab": {
          "base_uri": "https://localhost:8080/",
          "height": 238
        }
      },
      "source": [
        "epochs = 5\n",
        "\n",
        "history = model.fit(X_train,y_train,batch_size=32,\n",
        "                    validation_data=(X_test,y_test),\n",
        "                              epochs=epochs,\n",
        "                              workers=4,\n",
        "                              use_multiprocessing=True,shuffle=True)"
      ],
      "execution_count": 10,
      "outputs": [
        {
          "output_type": "error",
          "ename": "NameError",
          "evalue": "ignored",
          "traceback": [
            "\u001b[0;31m---------------------------------------------------------------------------\u001b[0m",
            "\u001b[0;31mNameError\u001b[0m                                 Traceback (most recent call last)",
            "\u001b[0;32m<ipython-input-10-420c0eb4c91a>\u001b[0m in \u001b[0;36m<module>\u001b[0;34m()\u001b[0m\n\u001b[1;32m      1\u001b[0m \u001b[0mepochs\u001b[0m \u001b[0;34m=\u001b[0m \u001b[0;36m5\u001b[0m\u001b[0;34m\u001b[0m\u001b[0;34m\u001b[0m\u001b[0m\n\u001b[1;32m      2\u001b[0m \u001b[0;34m\u001b[0m\u001b[0m\n\u001b[0;32m----> 3\u001b[0;31m history = model.fit(X_train,y_train,batch_size=32,\n\u001b[0m\u001b[1;32m      4\u001b[0m                     \u001b[0mvalidation_data\u001b[0m\u001b[0;34m=\u001b[0m\u001b[0;34m(\u001b[0m\u001b[0mX_test\u001b[0m\u001b[0;34m,\u001b[0m\u001b[0my_test\u001b[0m\u001b[0;34m)\u001b[0m\u001b[0;34m,\u001b[0m\u001b[0;34m\u001b[0m\u001b[0;34m\u001b[0m\u001b[0m\n\u001b[1;32m      5\u001b[0m                               \u001b[0mepochs\u001b[0m\u001b[0;34m=\u001b[0m\u001b[0mepochs\u001b[0m\u001b[0;34m,\u001b[0m\u001b[0;34m\u001b[0m\u001b[0;34m\u001b[0m\u001b[0m\n",
            "\u001b[0;31mNameError\u001b[0m: name 'X_train' is not defined"
          ]
        }
      ]
    },
    {
      "cell_type": "code",
      "metadata": {
        "id": "bfL06d-fHg3v",
        "colab_type": "code",
        "colab": {
          "base_uri": "https://localhost:8080/",
          "height": 267
        },
        "outputId": "d5950dd5-619f-44c8-f632-48b5c51a643c"
      },
      "source": [
        "epochs = 5\n",
        "steps_per_epoch = train_generator.n // batch_size\n",
        "validation_steps = validation_generator.n // batch_size\n",
        "\n",
        "history = model.fit_generator(train_generator,\n",
        "                              steps_per_epoch = 32,\n",
        "                              epochs=epochs,\n",
        "                              workers=4,\n",
        "                              use_multiprocessing=True,\n",
        "                              validation_data=validation_generator,\n",
        "                              validation_steps=32)"
      ],
      "execution_count": 11,
      "outputs": [
        {
          "output_type": "stream",
          "text": [
            "Epoch 1/5\n"
          ],
          "name": "stdout"
        },
        {
          "output_type": "stream",
          "text": [
            "W0713 06:31:12.790014 140549613578112 deprecation.py:323] From /usr/local/lib/python3.6/dist-packages/tensorflow/python/ops/math_grad.py:1250: add_dispatch_support.<locals>.wrapper (from tensorflow.python.ops.array_ops) is deprecated and will be removed in a future version.\n",
            "Instructions for updating:\n",
            "Use tf.where in 2.0, which has the same broadcast rule as np.where\n"
          ],
          "name": "stderr"
        },
        {
          "output_type": "stream",
          "text": [
            "32/32 [==============================] - 48s 2s/step - loss: 1.3517 - acc: 0.6377 - val_loss: 2.0261 - val_acc: 0.2188\n",
            "Epoch 2/5\n",
            "32/32 [==============================] - 41s 1s/step - loss: 0.8349 - acc: 0.6757 - val_loss: 1.8941 - val_acc: 0.2188\n",
            "Epoch 3/5\n",
            "32/32 [==============================] - 38s 1s/step - loss: 0.8556 - acc: 0.6670 - val_loss: 1.8606 - val_acc: 0.3066\n",
            "Epoch 4/5\n",
            "32/32 [==============================] - 42s 1s/step - loss: 0.6900 - acc: 0.7490 - val_loss: 1.7287 - val_acc: 0.3398\n",
            "Epoch 5/5\n",
            "32/32 [==============================] - 40s 1s/step - loss: 0.6391 - acc: 0.7764 - val_loss: 1.9279 - val_acc: 0.3652\n"
          ],
          "name": "stdout"
        }
      ]
    },
    {
      "cell_type": "code",
      "metadata": {
        "id": "wSumUlA5H77e",
        "colab_type": "code",
        "outputId": "c5423980-15ff-4412-fb60-597c6dc9b1b0",
        "colab": {
          "base_uri": "https://localhost:8080/",
          "height": 498
        }
      },
      "source": [
        "import matplotlib.pyplot as plt\n",
        "acc = history.history['acc']\n",
        "val_acc = history.history['val_acc']\n",
        "\n",
        "loss = history.history['loss']\n",
        "val_loss = history.history['val_loss']\n",
        "\n",
        "plt.figure(figsize=(8, 8))\n",
        "plt.subplot(2, 1, 1)\n",
        "plt.plot(acc, label='Training Accuracy')\n",
        "plt.plot(val_acc, label='Validation Accuracy')\n",
        "plt.legend(loc='lower right')\n",
        "plt.ylabel('Accuracy')\n",
        "plt.ylim([min(plt.ylim()),1])\n",
        "plt.title('Training and Validation Accuracy')\n",
        "\n",
        "plt.subplot(2, 1, 2)\n",
        "plt.plot(loss, label='Training Loss')\n",
        "plt.plot(val_loss, label='Validation Loss')\n",
        "plt.legend(loc='upper right')\n",
        "plt.ylabel('Cross Entropy')\n",
        "plt.ylim([0,max(plt.ylim())])\n",
        "plt.title('Training and Validation Loss')\n",
        "plt.show()"
      ],
      "execution_count": 0,
      "outputs": [
        {
          "output_type": "display_data",
          "data": {
            "image/png": "[encoded data removed]",
            "text/plain": [
              "<Figure size 576x576 with 2 Axes>"
            ]
          },
          "metadata": {
            "tags": []
          }
        }
      ]
    },
    {
      "cell_type": "code",
      "metadata": {
        "id": "seAP5a4DIYZf",
        "colab_type": "code",
        "colab": {}
      },
      "source": [
        "base_model.trainable = True"
      ],
      "execution_count": 0,
      "outputs": []
    },
    {
      "cell_type": "code",
      "metadata": {
        "id": "6XUlQI8NIcJn",
        "colab_type": "code",
        "colab": {}
      },
      "source": [
        "fine_tune_at = 30\n",
        "\n",
        "for layer in base_model.layers[:fine_tune_at]:\n",
        "  layer.trainable =  False"
      ],
      "execution_count": 0,
      "outputs": []
    },
    {
      "cell_type": "code",
      "metadata": {
        "id": "ceMQ2ronG1lE",
        "colab_type": "code",
        "colab": {}
      },
      "source": [
        ""
      ],
      "execution_count": 0,
      "outputs": []
    },
    {
      "cell_type": "code",
      "metadata": {
        "id": "X9w_BT6KIdpT",
        "colab_type": "code",
        "colab": {}
      },
      "source": [
        "model.compile(optimizer = tf.keras.optimizers.Adam(lr=0.00001),\n",
        "              loss='categorical_crossentropy',\n",
        "              metrics=['accuracy'])"
      ],
      "execution_count": 0,
      "outputs": []
    },
    {
      "cell_type": "code",
      "metadata": {
        "id": "EBcbi2HuG2Qa",
        "colab_type": "code",
        "outputId": "5143d1b5-dd03-450b-d798-0e84492c8a09",
        "colab": {
          "base_uri": "https://localhost:8080/",
          "height": 52
        }
      },
      "source": [
        "epochs = 1\n",
        "\n",
        "history = model.fit(X_train,y_train,batch_size=32,\n",
        "                    validation_data=(X_test,y_test),\n",
        "                              epochs=epochs,\n",
        "                              workers=4,\n",
        "                              use_multiprocessing=True,shuffle=True)"
      ],
      "execution_count": 0,
      "outputs": [
        {
          "output_type": "stream",
          "text": [
            "Train on 1600 samples, validate on 400 samples\n",
            "1600/1600 [==============================] - 36s 23ms/sample - loss: 0.0017 - acc: 1.0000 - val_loss: 0.1631 - val_acc: 0.9325\n"
          ],
          "name": "stdout"
        }
      ]
    },
    {
      "cell_type": "code",
      "metadata": {
        "id": "fy2BJ7YjIduO",
        "colab_type": "code",
        "colab": {
          "base_uri": "https://localhost:8080/",
          "height": 34
        },
        "outputId": "b8937792-3424-4a9f-fd07-1963ab24ce44"
      },
      "source": [
        "history_fine = model.fit_generator(train_generator,\n",
        "                                   steps_per_epoch = steps_per_epoch,\n",
        "                                   epochs=1,\n",
        "                                   use_multiprocessing=True,\n",
        "                                   workers=4,\n",
        "                                   validation_data=validation_generator,\n",
        "                                   validation_steps=validation_steps)"
      ],
      "execution_count": 17,
      "outputs": [
        {
          "output_type": "stream",
          "text": [
            "153/153 [==============================] - 151s 989ms/step - loss: 0.0271 - acc: 0.9969 - val_loss: 0.1692 - val_acc: 0.9355\n"
          ],
          "name": "stdout"
        }
      ]
    },
    {
      "cell_type": "code",
      "metadata": {
        "id": "xJwOfWfKPgQj",
        "colab_type": "code",
        "outputId": "9569391f-7b9b-49b5-a809-782a2cea44e0",
        "colab": {
          "base_uri": "https://localhost:8080/",
          "height": 87
        }
      },
      "source": [
        "history.history"
      ],
      "execution_count": 0,
      "outputs": [
        {
          "output_type": "execute_result",
          "data": {
            "text/plain": [
              "{'acc': [1.0],\n",
              " 'loss': [0.0016548775031697005],\n",
              " 'val_acc': [0.9325],\n",
              " 'val_loss': [0.16312405198812485]}"
            ]
          },
          "metadata": {
            "tags": []
          },
          "execution_count": 31
        }
      ]
    },
    {
      "cell_type": "code",
      "metadata": {
        "id": "nc-30hb-rlhd",
        "colab_type": "code",
        "colab": {}
      },
      "source": [
        "model.save('signadded.h5')"
      ],
      "execution_count": 0,
      "outputs": []
    },
    {
      "cell_type": "code",
      "metadata": {
        "id": "hPvizWJTrqq3",
        "colab_type": "code",
        "colab": {}
      },
      "source": [
        ""
      ],
      "execution_count": 0,
      "outputs": []
    },
    {
      "cell_type": "code",
      "metadata": {
        "id": "1Gr5w8d0rwDl",
        "colab_type": "code",
        "colab": {}
      },
      "source": [
        "from google.colab import files\n",
        "\n",
        "files.download('signadded.h5')"
      ],
      "execution_count": 0,
      "outputs": []
    },
    {
      "cell_type": "code",
      "metadata": {
        "id": "kcd6-mNRId0d",
        "colab_type": "code",
        "colab": {}
      },
      "source": [
        "acc += history_fine.history['acc']\n",
        "val_acc += history_fine.history['val_acc']\n",
        "\n",
        "loss += history_fine.history['loss']\n",
        "val_loss += history_fine.history['val_loss']"
      ],
      "execution_count": 0,
      "outputs": []
    },
    {
      "cell_type": "code",
      "metadata": {
        "id": "EZyyeqCjId6X",
        "colab_type": "code",
        "outputId": "a9866562-572b-4104-b6e0-b8282d93b742",
        "colab": {
          "base_uri": "https://localhost:8080/",
          "height": 499
        }
      },
      "source": [
        "plt.figure(figsize=(8, 8))\n",
        "plt.subplot(2, 1, 1)\n",
        "plt.plot(acc, label='Training Accuracy')\n",
        "plt.plot(val_acc, label='Validation Accuracy')\n",
        "plt.ylim([0.9, 1])\n",
        "plt.plot([epochs-1,epochs-1], plt.ylim(), label='Start Fine Tuning')\n",
        "plt.legend(loc='lower right')\n",
        "plt.title('Training and Validation Accuracy')\n",
        "\n",
        "plt.subplot(2, 1, 2)\n",
        "plt.plot(loss, label='Training Loss')\n",
        "plt.plot(val_loss, label='Validation Loss')\n",
        "plt.ylim([0, 0.2])\n",
        "plt.plot([epochs-1,epochs-1], plt.ylim(), label='Start Fine Tuning')\n",
        "plt.legend(loc='upper right')\n",
        "plt.title('Training and Validation Loss')\n",
        "plt.show()"
      ],
      "execution_count": 0,
      "outputs": [
        {
          "output_type": "display_data",
          "data": {
            "image/png": "[encoded data removed]",
            "text/plain": [
              "<Figure size 576x576 with 2 Axes>"
            ]
          },
          "metadata": {
            "tags": []
          }
        }
      ]
    },
    {
      "cell_type": "code",
      "metadata": {
        "id": "WltSTzrpfEd3",
        "colab_type": "code",
        "outputId": "d5c830bf-d008-4e66-8e53-bfc11d57e245",
        "colab": {
          "base_uri": "https://localhost:8080/",
          "height": 204
        }
      },
      "source": [
        ""
      ],
      "execution_count": 0,
      "outputs": [
        {
          "output_type": "stream",
          "text": [
            "--2019-07-06 19:25:55--  https://www.google.com/url?sa=i\n",
            "Resolving www.google.com (www.google.com)... 74.125.140.104, 74.125.140.105, 74.125.140.103, ...\n",
            "Connecting to www.google.com (www.google.com)|74.125.140.104|:443... connected.\n",
            "HTTP request sent, awaiting response... 200 OK\n",
            "Length: unspecified [text/html]\n",
            "Saving to: ‘url?sa=i’\n",
            "\n",
            "\rurl?sa=i                [<=>                 ]       0  --.-KB/s               \rurl?sa=i                [ <=>                ]   1.36K  --.-KB/s    in 0s      \n",
            "\n",
            "2019-07-06 19:25:55 (32.9 MB/s) - ‘url?sa=i’ saved [1395]\n",
            "\n"
          ],
          "name": "stdout"
        }
      ]
    },
    {
      "cell_type": "code",
      "metadata": {
        "id": "_z1GVbQvv_IC",
        "colab_type": "code",
        "outputId": "d26e9253-9349-486b-9ec2-59ff71a9858d",
        "colab": {
          "base_uri": "https://localhost:8080/",
          "height": 163
        }
      },
      "source": [
        "os.rename(\"url?sa=i\",\"test.webp\")"
      ],
      "execution_count": 0,
      "outputs": [
        {
          "output_type": "error",
          "ename": "FileNotFoundError",
          "evalue": "ignored",
          "traceback": [
            "\u001b[0;31m---------------------------------------------------------------------------\u001b[0m",
            "\u001b[0;31mFileNotFoundError\u001b[0m                         Traceback (most recent call last)",
            "\u001b[0;32m<ipython-input-59-ce34ab7de66d>\u001b[0m in \u001b[0;36m<module>\u001b[0;34m()\u001b[0m\n\u001b[0;32m----> 1\u001b[0;31m \u001b[0mos\u001b[0m\u001b[0;34m.\u001b[0m\u001b[0mrename\u001b[0m\u001b[0;34m(\u001b[0m\u001b[0;34m\"url?sa=i\"\u001b[0m\u001b[0;34m,\u001b[0m\u001b[0;34m\"test.webp\"\u001b[0m\u001b[0;34m)\u001b[0m\u001b[0;34m\u001b[0m\u001b[0;34m\u001b[0m\u001b[0m\n\u001b[0m",
            "\u001b[0;31mFileNotFoundError\u001b[0m: [Errno 2] No such file or directory: 'url?sa=i' -> 'test.webp'"
          ]
        }
      ]
    },
    {
      "cell_type": "code",
      "metadata": {
        "id": "69oxHgSF_Y9H",
        "colab_type": "code",
        "colab": {}
      },
      "source": [
        "import cv2"
      ],
      "execution_count": 0,
      "outputs": []
    },
    {
      "cell_type": "code",
      "metadata": {
        "id": "U0ysLS2jGioz",
        "colab_type": "code",
        "colab": {}
      },
      "source": [
        "classes = {'0':'fist','1':'highfive','2':'one','3':'L two',\n",
        "           '4':'twopeace','5':'three','6':'web shoot','7':'pinky','8':'4palm',\n",
        "           '9':'two','10':'nothing'}"
      ],
      "execution_count": 0,
      "outputs": []
    },
    {
      "cell_type": "code",
      "metadata": {
        "id": "xHxElAdUGo9f",
        "colab_type": "code",
        "colab": {}
      },
      "source": [
        "im = cv2.imread(\"./senz3d_dataset/acquisitions/train/G3/S2G3-13-color.png\")\n",
        "im = cv2.cvtColor(im,cv2.COLOR_BGR2RGB)"
      ],
      "execution_count": 0,
      "outputs": []
    },
    {
      "cell_type": "code",
      "metadata": {
        "id": "9xQ3US09HBka",
        "colab_type": "code",
        "outputId": "d33ce5c5-86cf-45bb-f06c-c6ca852f4909",
        "colab": {
          "base_uri": "https://localhost:8080/",
          "height": 286
        }
      },
      "source": [
        "plt.imshow(im)"
      ],
      "execution_count": 0,
      "outputs": [
        {
          "output_type": "execute_result",
          "data": {
            "text/plain": [
              "<matplotlib.image.AxesImage at 0x7f0ac4a79b70>"
            ]
          },
          "metadata": {
            "tags": []
          },
          "execution_count": 242
        },
        {
          "output_type": "display_data",
          "data": {
            "image/png": "[encoded data removed]",
            "text/plain": [
              "<Figure size 432x288 with 1 Axes>"
            ]
          },
          "metadata": {
            "tags": []
          }
        }
      ]
    },
    {
      "cell_type": "code",
      "metadata": {
        "id": "sD9MNXlpwG6r",
        "colab_type": "code",
        "colab": {}
      },
      "source": [
        "im = cv2.imread(\"photo.jpg\")\n",
        "im = cv2.cvtColor(im,cv2.COLOR_BGR2RGB)"
      ],
      "execution_count": 0,
      "outputs": []
    },
    {
      "cell_type": "code",
      "metadata": {
        "id": "tMmOWduWwf2O",
        "colab_type": "code",
        "colab": {}
      },
      "source": [
        "im = cv2.resize(im,(299,299))\n",
        "im = im /255.0"
      ],
      "execution_count": 0,
      "outputs": []
    },
    {
      "cell_type": "code",
      "metadata": {
        "id": "BBhZhTnIEizz",
        "colab_type": "code",
        "colab": {}
      },
      "source": [
        "\n",
        "from keras.applications.xception import preprocess_input\n",
        "im = cv2.resize(im,(299,299))\n",
        "im = np.expand_dims(im,0)\n",
        "im = preprocess_input(im)"
      ],
      "execution_count": 0,
      "outputs": []
    },
    {
      "cell_type": "code",
      "metadata": {
        "id": "Vz2TUntWxD_o",
        "colab_type": "code",
        "outputId": "26c10a59-18c4-473d-d22a-9294507de0d9",
        "colab": {
          "base_uri": "https://localhost:8080/",
          "height": 34
        }
      },
      "source": [
        "pred = model.predict(np.expand_dims(im,0))\n",
        "# top5 = \n",
        "print(classes[str(np.argmax(pred))],np.max(pred))"
      ],
      "execution_count": 25,
      "outputs": [
        {
          "output_type": "stream",
          "text": [
            "nothing 0.0016346852\n"
          ],
          "name": "stdout"
        }
      ]
    },
    {
      "cell_type": "code",
      "metadata": {
        "id": "Jl8I0Dm4yVDV",
        "colab_type": "code",
        "outputId": "1d12a62b-82a1-4e99-d2dd-965358ceb9b9",
        "colab": {
          "base_uri": "https://localhost:8080/",
          "height": 70
        }
      },
      "source": [
        "pred"
      ],
      "execution_count": 0,
      "outputs": [
        {
          "output_type": "execute_result",
          "data": {
            "text/plain": [
              "array([[1.3371110e-03, 5.9604645e-08, 9.6896291e-04, 8.3446503e-07,\n",
              "        1.0728836e-06, 4.3511391e-06, 8.9406967e-08, 3.5366416e-03,\n",
              "        1.3432627e-06, 1.1179552e-06]], dtype=float32)"
            ]
          },
          "metadata": {
            "tags": []
          },
          "execution_count": 38
        }
      ]
    },
    {
      "cell_type": "code",
      "metadata": {
        "id": "AxOlFCDvKA15",
        "colab_type": "code",
        "outputId": "8dbc487e-049b-4978-9a6d-0d9bc2e6edb2",
        "colab": {
          "base_uri": "https://localhost:8080/",
          "height": 34
        }
      },
      "source": [
        "model.evaluate_generator(train_generator)"
      ],
      "execution_count": 0,
      "outputs": [
        {
          "output_type": "execute_result",
          "data": {
            "text/plain": [
              "[0.13882892121161733, 0.9663636]"
            ]
          },
          "metadata": {
            "tags": []
          },
          "execution_count": 202
        }
      ]
    },
    {
      "cell_type": "code",
      "metadata": {
        "id": "FB-XVo1m8O1k",
        "colab_type": "code",
        "colab": {}
      },
      "source": [
        "\n",
        "from IPython.display import display, Javascript\n",
        "from google.colab.output import eval_js\n",
        "from base64 import b64decode\n",
        "\n",
        "def take_photo(filename='photo.jpg', quality=0.8):\n",
        "  js = Javascript('''\n",
        "    async function takePhoto(quality) {\n",
        "      const div = document.createElement('div');\n",
        "      const capture = document.createElement('button');\n",
        "      capture.textContent = 'Capture';\n",
        "      div.appendChild(capture);\n",
        "\n",
        "      const video = document.createElement('video');\n",
        "      video.style.display = 'block';\n",
        "      const stream = await navigator.mediaDevices.getUserMedia({video: true});\n",
        "\n",
        "      document.body.appendChild(div);\n",
        "      div.appendChild(video);\n",
        "      video.srcObject = stream;\n",
        "      await video.play();\n",
        "\n",
        "      // Resize the output to fit the video element.\n",
        "      google.colab.output.setIframeHeight(document.documentElement.scrollHeight, true);\n",
        "\n",
        "      // Wait for Capture to be clicked.\n",
        "      await new Promise((resolve) => capture.onclick = resolve);\n",
        "\n",
        "      const canvas = document.createElement('canvas');\n",
        "      canvas.width = video.videoWidth;\n",
        "      canvas.height = video.videoHeight;\n",
        "      canvas.getContext('2d').drawImage(video, 0, 0);\n",
        "      stream.getVideoTracks()[0].stop();\n",
        "      div.remove();\n",
        "      return canvas.toDataURL('image/jpeg', quality);\n",
        "    }\n",
        "    ''')\n",
        "  display(js)\n",
        "  data = eval_js('takePhoto({})'.format(quality))\n",
        "  binary = b64decode(data.split(',')[1])\n",
        "  with open(filename, 'wb') as f:\n",
        "    f.write(binary)\n",
        "  return filename"
      ],
      "execution_count": 0,
      "outputs": []
    },
    {
      "cell_type": "code",
      "metadata": {
        "id": "zyUnDZO58O0u",
        "colab_type": "code",
        "colab": {}
      },
      "source": [
        "from IPython.display import Image\n",
        "try:\n",
        "  filename = take_photo()\n",
        "  print('Saved to {}'.format(filename))\n",
        "  \n",
        "  # Show the image which was just taken.\n",
        "  display(Image(filename))\n",
        "except Exception as err:\n",
        "  # Errors will be thrown if the user does not have a webcam or if they do not\n",
        "  # grant the page permission to access it.\n",
        "  print(str(err))"
      ],
      "execution_count": 0,
      "outputs": []
    },
    {
      "cell_type": "code",
      "metadata": {
        "id": "Z8gU0Q4ER1P2",
        "colab_type": "code",
        "colab": {}
      },
      "source": [
        "file = zipfile.ZipFile(\"./LISA_HG_Data.zip\")"
      ],
      "execution_count": 0,
      "outputs": []
    },
    {
      "cell_type": "code",
      "metadata": {
        "id": "pWxDA8gWR5pV",
        "colab_type": "code",
        "colab": {}
      },
      "source": [
        "file.extractall()"
      ],
      "execution_count": 0,
      "outputs": []
    },
    {
      "cell_type": "code",
      "metadata": {
        "id": "cERbeS8JR74_",
        "colab_type": "code",
        "colab": {}
      },
      "source": [
        "import matplotlib.pyplot as plt\n",
        "import cv2\n",
        "im = cv2.imread(\"./art.jpg\")\n",
        "im = cv2.cvtColor(im,cv2.COLOR_BGR2RGB)\n",
        "im=im/255.0"
      ],
      "execution_count": 0,
      "outputs": []
    },
    {
      "cell_type": "code",
      "metadata": {
        "id": "PsYO5rgeU1Ja",
        "colab_type": "code",
        "colab": {}
      },
      "source": [
        "plt.imshow(im)"
      ],
      "execution_count": 0,
      "outputs": []
    },
    {
      "cell_type": "code",
      "metadata": {
        "id": "6orGnYEvU2US",
        "colab_type": "code",
        "outputId": "6515e562-0c84-4bc0-fea2-7665ccfd8db1",
        "colab": {
          "base_uri": "https://localhost:8080/",
          "height": 34
        }
      },
      "source": [
        "tf.__version__"
      ],
      "execution_count": 0,
      "outputs": [
        {
          "output_type": "execute_result",
          "data": {
            "text/plain": [
              "'1.14.0'"
            ]
          },
          "metadata": {
            "tags": []
          },
          "execution_count": 72
        }
      ]
    },
    {
      "cell_type": "code",
      "metadata": {
        "id": "q57c3-ySVaTe",
        "colab_type": "code",
        "outputId": "a4b6aa24-b648-408c-c82f-72823ec01645",
        "colab": {
          "base_uri": "https://localhost:8080/",
          "height": 34
        }
      },
      "source": [
        "keras.__version__"
      ],
      "execution_count": 0,
      "outputs": [
        {
          "output_type": "execute_result",
          "data": {
            "text/plain": [
              "'2.2.4-tf'"
            ]
          },
          "metadata": {
            "tags": []
          },
          "execution_count": 73
        }
      ]
    },
    {
      "cell_type": "code",
      "metadata": {
        "id": "H1nh4YWyjDkt",
        "colab_type": "code",
        "outputId": "726e904f-a6bd-4753-bd3a-cd4cbf0cf13d",
        "colab": {
          "base_uri": "https://localhost:8080/",
          "height": 196
        }
      },
      "source": [
        "mod = keras.models.load_model('./signs.h5')"
      ],
      "execution_count": 0,
      "outputs": [
        {
          "output_type": "stream",
          "text": [
            "W0712 09:39:26.947967 139852993255296 deprecation.py:506] From /usr/local/lib/python3.6/dist-packages/tensorflow/python/ops/init_ops.py:97: calling GlorotUniform.__init__ (from tensorflow.python.ops.init_ops) with dtype is deprecated and will be removed in a future version.\n",
            "Instructions for updating:\n",
            "Call initializer instance with the dtype argument instead of passing it to the constructor\n",
            "W0712 09:39:26.953410 139852993255296 deprecation.py:506] From /usr/local/lib/python3.6/dist-packages/tensorflow/python/ops/init_ops.py:97: calling Zeros.__init__ (from tensorflow.python.ops.init_ops) with dtype is deprecated and will be removed in a future version.\n",
            "Instructions for updating:\n",
            "Call initializer instance with the dtype argument instead of passing it to the constructor\n",
            "W0712 09:39:26.960598 139852993255296 deprecation.py:506] From /usr/local/lib/python3.6/dist-packages/tensorflow/python/ops/init_ops.py:97: calling Ones.__init__ (from tensorflow.python.ops.init_ops) with dtype is deprecated and will be removed in a future version.\n",
            "Instructions for updating:\n",
            "Call initializer instance with the dtype argument instead of passing it to the constructor\n"
          ],
          "name": "stderr"
        }
      ]
    },
    {
      "cell_type": "code",
      "metadata": {
        "id": "gUu5TU_XjTqN",
        "colab_type": "code",
        "colab": {}
      },
      "source": [
        ""
      ],
      "execution_count": 0,
      "outputs": []
    },
    {
      "cell_type": "code",
      "metadata": {
        "id": "B9xj-_JLCs8h",
        "colab_type": "code",
        "colab": {}
      },
      "source": [
        ""
      ],
      "execution_count": 0,
      "outputs": []
    },
    {
      "cell_type": "code",
      "metadata": {
        "id": "t-OeDCGfCs_s",
        "colab_type": "code",
        "colab": {}
      },
      "source": [
        ""
      ],
      "execution_count": 0,
      "outputs": []
    },
    {
      "cell_type": "code",
      "metadata": {
        "id": "q58SQjejCtEz",
        "colab_type": "code",
        "colab": {}
      },
      "source": [
        ""
      ],
      "execution_count": 0,
      "outputs": []
    },
    {
      "cell_type": "code",
      "metadata": {
        "id": "4YcFjxl-CtH_",
        "colab_type": "code",
        "colab": {}
      },
      "source": [
        "# test the model"
      ],
      "execution_count": 0,
      "outputs": []
    },
    {
      "cell_type": "code",
      "metadata": {
        "id": "k8UKE2hbCw3q",
        "colab_type": "code",
        "outputId": "322eca8f-5842-4c18-fb94-4161c0926246",
        "colab": {
          "base_uri": "https://localhost:8080/",
          "height": 212
        }
      },
      "source": [
        "!wget \"http://www.ee.oulu.fi/research/imag/Ouhands/OUHANDS_test.tar.gz\""
      ],
      "execution_count": 0,
      "outputs": [
        {
          "output_type": "stream",
          "text": [
            "--2019-07-12 11:58:24--  http://www.ee.oulu.fi/research/imag/Ouhands/OUHANDS_test.tar.gz\n",
            "Resolving www.ee.oulu.fi (www.ee.oulu.fi)... 130.231.61.28, 2001:708:520:80::28\n",
            "Connecting to www.ee.oulu.fi (www.ee.oulu.fi)|130.231.61.28|:80... connected.\n",
            "HTTP request sent, awaiting response... 200 OK\n",
            "Length: 1306996260 (1.2G) [application/x-gzip]\n",
            "Saving to: ‘OUHANDS_test.tar.gz’\n",
            "\n",
            "OUHANDS_test.tar.gz 100%[===================>]   1.22G  19.7MB/s    in 64s     \n",
            "\n",
            "2019-07-12 11:59:29 (19.5 MB/s) - ‘OUHANDS_test.tar.gz’ saved [1306996260/1306996260]\n",
            "\n"
          ],
          "name": "stdout"
        }
      ]
    },
    {
      "cell_type": "code",
      "metadata": {
        "id": "YBeoG84-CykB",
        "colab_type": "code",
        "colab": {}
      },
      "source": [
        "!tar xvf \"OUHANDS_test.tar.gz\""
      ],
      "execution_count": 0,
      "outputs": []
    },
    {
      "cell_type": "code",
      "metadata": {
        "id": "-B0QXm6cDJTU",
        "colab_type": "code",
        "colab": {}
      },
      "source": [
        "import os\n",
        "import zipfile\n",
        "import tensorflow as tf\n",
        "from tensorflow import keras\n",
        "from tensorflow.keras.preprocessing import image\n",
        "import numpy as np\n",
        "import cv2\n",
        "from sklearn.utils import shuffle"
      ],
      "execution_count": 0,
      "outputs": []
    },
    {
      "cell_type": "code",
      "metadata": {
        "id": "JOFcdLzsDuS-",
        "colab_type": "code",
        "colab": {}
      },
      "source": [
        "model = keras.models.load_model('sign93.h5')"
      ],
      "execution_count": 0,
      "outputs": []
    },
    {
      "cell_type": "code",
      "metadata": {
        "id": "Qm2i-doMD0Q5",
        "colab_type": "code",
        "colab": {}
      },
      "source": [
        "def loadtest():\n",
        "  trainlst = os.listdir('./test/hand_data/colour')\n",
        "  img_dir = './test/hand_data/colour'\n",
        "  trainimages = []\n",
        "  labels = []\n",
        "  for imagename in trainlst:\n",
        "    if(len(imagename)>4):\n",
        "      im = image.load_img(os.path.join(img_dir,imagename))\n",
        "      im = image.img_to_array(im)\n",
        "      im = cv2.resize(im,(299,299))\n",
        "      im = im/255.0\n",
        "      trainimages.append(im)\n",
        "      if(imagename.startswith('A')):\n",
        "        labels.append(0)\n",
        "      elif(imagename.startswith('B')):\n",
        "        labels.append(1)\n",
        "      elif(imagename.startswith('C')):\n",
        "        labels.append(2)\n",
        "      elif(imagename.startswith('D')):\n",
        "        labels.append(3)\n",
        "      elif(imagename.startswith('E')):\n",
        "        labels.append(4)\n",
        "      elif(imagename.startswith('F')):\n",
        "        labels.append(5)\n",
        "      elif(imagename.startswith('H')):\n",
        "        labels.append(6)\n",
        "      elif(imagename.startswith('I')):\n",
        "        labels.append(7)\n",
        "      elif(imagename.startswith('J')):\n",
        "        labels.append(8)\n",
        "      elif(imagename.startswith('K')):\n",
        "        labels.append(9)\n",
        "      \n",
        "  return np.array(trainimages),np.array(labels)"
      ],
      "execution_count": 0,
      "outputs": []
    },
    {
      "cell_type": "code",
      "metadata": {
        "id": "yZS0m1AyIXVN",
        "colab_type": "code",
        "colab": {}
      },
      "source": [
        "X,y = loadtest()"
      ],
      "execution_count": 0,
      "outputs": []
    },
    {
      "cell_type": "code",
      "metadata": {
        "id": "4CFlNSkVJLPf",
        "colab_type": "code",
        "colab": {}
      },
      "source": [
        "X_eval,y_eval = shuffle(X,y)\n",
        "X=[]\n",
        "y=[]"
      ],
      "execution_count": 0,
      "outputs": []
    },
    {
      "cell_type": "code",
      "metadata": {
        "id": "va4Al7V5Jdd6",
        "colab_type": "code",
        "outputId": "f71b5522-254c-4ff0-e7ee-e9b0aa09bfc1",
        "colab": {
          "base_uri": "https://localhost:8080/",
          "height": 52
        }
      },
      "source": [
        "model.evaluate(X_eval,y_eval,64)"
      ],
      "execution_count": 0,
      "outputs": [
        {
          "output_type": "stream",
          "text": [
            "1000/1000 [==============================] - 9s 9ms/sample - loss: 0.3904 - acc: 0.8740\n"
          ],
          "name": "stdout"
        },
        {
          "output_type": "execute_result",
          "data": {
            "text/plain": [
              "[0.390426721572876, 0.874]"
            ]
          },
          "metadata": {
            "tags": []
          },
          "execution_count": 14
        }
      ]
    },
    {
      "cell_type": "code",
      "metadata": {
        "id": "v0YDsCh9JqbQ",
        "colab_type": "code",
        "colab": {}
      },
      "source": [
        ""
      ],
      "execution_count": 0,
      "outputs": []
    }
  ]
}