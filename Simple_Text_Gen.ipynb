{
  "nbformat": 4,
  "nbformat_minor": 0,
  "metadata": {
    "colab": {
      "name": "Simple Text Gen.ipynb",
      "provenance": [],
      "collapsed_sections": [],
      "include_colab_link": true
    },
    "kernelspec": {
      "name": "python3",
      "display_name": "Python 3"
    },
    "accelerator": "GPU"
  },
  "cells": [
    {
      "cell_type": "markdown",
      "metadata": {
        "id": "view-in-github",
        "colab_type": "text"
      },
      "source": [
        "<a href=\"https://colab.research.google.com/github/jpatel0/Colab-notebooks/blob/master/Simple_Text_Gen.ipynb\" target=\"_parent\"><img src=\"https://colab.research.google.com/assets/colab-badge.svg\" alt=\"Open In Colab\"/></a>"
      ]
    },
    {
      "cell_type": "code",
      "metadata": {
        "id": "tARBi4n1SlYb",
        "colab_type": "code",
        "colab": {
          "base_uri": "https://localhost:8080/",
          "height": 63
        },
        "outputId": "01b9d299-7dd3-4acf-e943-fac510eadad3"
      },
      "source": [
        "%matplotlib inline\n",
        "import tensorflow as tf\n",
        "from tensorflow import keras\n",
        "from tensorflow.keras.models import Model\n",
        "from tensorflow.keras.layers import Input, LSTM, Dense, Embedding, CuDNNLSTM, Flatten, TimeDistributed, Dropout, LSTMCell, RNN, Bidirectional, Concatenate, Layer\n",
        "from tensorflow.keras.callbacks import ModelCheckpoint\n",
        "from tensorflow.python.keras.utils import tf_utils\n",
        "from tensorflow.keras import backend as K\n",
        "\n",
        "import unicodedata\n",
        "import re\n",
        "import numpy as np\n",
        "import os\n",
        "import time\n",
        "import shutil\n",
        "\n",
        "import pandas as pd\n",
        "import numpy as np\n",
        "import string "
      ],
      "execution_count": 1,
      "outputs": [
        {
          "output_type": "display_data",
          "data": {
            "text/html": [
              "<p style=\"color: red;\">\n",
              "The default version of TensorFlow in Colab will soon switch to TensorFlow 2.x.<br>\n",
              "We recommend you <a href=\"https://www.tensorflow.org/guide/migrate\" target=\"_blank\">upgrade</a> now \n",
              "or ensure your notebook will continue to use TensorFlow 1.x via the <code>%tensorflow_version 1.x</code> magic:\n",
              "<a href=\"https://colab.research.google.com/notebooks/tensorflow_version.ipynb\" target=\"_blank\">more info</a>.</p>\n"
            ],
            "text/plain": [
              "<IPython.core.display.HTML object>"
            ]
          },
          "metadata": {
            "tags": []
          }
        }
      ]
    },
    {
      "cell_type": "code",
      "metadata": {
        "id": "WTsHejRbfCAK",
        "colab_type": "code",
        "colab": {}
      },
      "source": [
        ""
      ],
      "execution_count": 0,
      "outputs": []
    },
    {
      "cell_type": "code",
      "metadata": {
        "id": "bZU0qGX3sr0n",
        "colab_type": "code",
        "outputId": "5c3bec08-8489-4f7d-fd99-18627ebf3dec",
        "colab": {
          "base_uri": "https://localhost:8080/",
          "height": 125
        }
      },
      "source": [
        "from google.colab import drive\n",
        "drive.mount('/content/drive')"
      ],
      "execution_count": 2,
      "outputs": [
        {
          "output_type": "stream",
          "text": [
            "Go to this URL in a browser: https://accounts.google.com/o/oauth2/auth?client_id=947318989803-6bn6qk8qdgf4n4g3pfee6491hc0brc4i.apps.googleusercontent.com&redirect_uri=urn%3aietf%3awg%3aoauth%3a2.0%3aoob&response_type=code&scope=email%20https%3a%2f%2fwww.googleapis.com%2fauth%2fdocs.test%20https%3a%2f%2fwww.googleapis.com%2fauth%2fdrive%20https%3a%2f%2fwww.googleapis.com%2fauth%2fdrive.photos.readonly%20https%3a%2f%2fwww.googleapis.com%2fauth%2fpeopleapi.readonly\n",
            "\n",
            "Enter your authorization code:\n",
            "··········\n",
            "Mounted at /content/drive\n"
          ],
          "name": "stdout"
        }
      ]
    },
    {
      "cell_type": "code",
      "metadata": {
        "id": "ICEzxJR2fFcW",
        "colab_type": "code",
        "colab": {}
      },
      "source": [
        " "
      ],
      "execution_count": 0,
      "outputs": []
    },
    {
      "cell_type": "code",
      "metadata": {
        "id": "aq0w9lUO3LbP",
        "colab_type": "code",
        "colab": {}
      },
      "source": [
        "import zipfile\n",
        "\n",
        "file = zipfile.ZipFile('drive/My Drive/blogs.zip')\n",
        "file.extractall()\n"
      ],
      "execution_count": 0,
      "outputs": []
    },
    {
      "cell_type": "code",
      "metadata": {
        "id": "iIkFnQwq3W-y",
        "colab_type": "code",
        "colab": {}
      },
      "source": [
        ""
      ],
      "execution_count": 0,
      "outputs": []
    },
    {
      "cell_type": "code",
      "metadata": {
        "id": "FLuXVi1qxN0H",
        "colab_type": "code",
        "colab": {}
      },
      "source": [
        ""
      ],
      "execution_count": 0,
      "outputs": []
    },
    {
      "cell_type": "code",
      "metadata": {
        "id": "ovlPFqQligu8",
        "colab_type": "code",
        "colab": {}
      },
      "source": [
        "with open(os.path.join('blogs','3959121.female.15.indUnk.Aquarius.xml')) as f:\n",
        "        data = f.read()\n",
        "        print(data)"
      ],
      "execution_count": 0,
      "outputs": []
    },
    {
      "cell_type": "code",
      "metadata": {
        "id": "cO44KjvPpP6z",
        "colab_type": "code",
        "colab": {}
      },
      "source": [
        "import xml.etree.ElementTree as et\n",
        "def prepdata():\n",
        "  dataset = []\n",
        "  for filename in os.listdir('blogs'):\n",
        "    try:\n",
        "      tree = et.parse(os.path.join('blogs',filename))\n",
        "      for post in tree.getroot().findall('post'):\n",
        "          para = post.text.replace(r\"\\\\n\",'').replace(r\"\\n\",'').replace('urlLink','')\n",
        "          para = para.split('.')\n",
        "          para = list(map(str.strip, para))\n",
        "          para = list(filter(lambda x: len(x)>15, para))\n",
        "          dataset.extend(para)\n",
        "    except:\n",
        "      pass\n",
        "  return set(dataset)"
      ],
      "execution_count": 0,
      "outputs": []
    },
    {
      "cell_type": "code",
      "metadata": {
        "id": "WO_3HfTdpQKu",
        "colab_type": "code",
        "colab": {}
      },
      "source": [
        "corpus = list(prepdata())"
      ],
      "execution_count": 0,
      "outputs": []
    },
    {
      "cell_type": "code",
      "metadata": {
        "id": "RU_IFB932J_2",
        "colab_type": "code",
        "colab": {}
      },
      "source": [
        "with open('./datasets/data.txt','w') as f:\n",
        "  for line in corpus[1000:7000]:\n",
        "    f.write(line+'.\\n')\n",
        "  # f.writelines(corpus)"
      ],
      "execution_count": 0,
      "outputs": []
    },
    {
      "cell_type": "code",
      "metadata": {
        "id": "IR_NUP6PpQP5",
        "colab_type": "code",
        "colab": {
          "base_uri": "https://localhost:8080/",
          "height": 1000
        },
        "outputId": "dbf6b6f0-48dc-4f71-d30b-5c463d305d61"
      },
      "source": [
        "with open('data.txt','r') as f:\n",
        "  # for line in corpus:\n",
        "  #   f.writelines(line)\n",
        "  for i,line in zip(range(100),f.readlines()):\n",
        "    print(line)"
      ],
      "execution_count": 25,
      "outputs": [
        {
          "output_type": "stream",
          "text": [
            "is like he now got his own life liao le lorr.\n",
            "\n",
            "This sentiment si what drives people such as JFK and other great figures.\n",
            "\n",
            "\" It's all horrible, but I can't help but feel like it fits the pattern here.\n",
            "\n",
            "Arda just like threw them away.\n",
            "\n",
            "I had my encounter with Justin when I got back from Gurnee, Friday afternoon.\n",
            "\n",
            "but e 3gers took 963.\n",
            "\n",
            "I don't feel as though I have enough time to develop what needs to be developed.\n",
            "\n",
            "I enjoy working with animals  In the afternoon yesterday we had anger management and I realized (once again) that I do not hand anger well.\n",
            "\n",
            "If you want to leave a comment and be really critical of what I do a la the anonymous comment on my post, Movie and food (that I didn't eat,) think about if it's really worth it.\n",
            "\n",
            "Make note of your answers, and you'll be able to check them at the end of the test.\n",
            "\n",
            "Mark out the mistakes and put the corrections in the blanks provided.\n",
            "\n",
            "And, I'm not totally convinced that he would be faithful to me under the wrong circumstances.\n",
            "\n",
            "I was a bit worried we'd be reading mostly autobiographies and literary classics each month.\n",
            "\n",
            "I have never lost sleep over a dream before.\n",
            "\n",
            "One of the best nights of my life.\n",
            "\n",
            "wonder y do i need so much slp nowadays.\n",
            "\n",
            "Check out this news article from the New Zealand Herald.\n",
            "\n",
            "(More on that in July's column*)    But to do those things, we need people.\n",
            "\n",
            "\" Right about this point, you know you’re going to die, so what’s the point.\n",
            "\n",
            "But yesterday, I went into BN to find a book for self-improvement.\n",
            "\n",
            "The music became faster and louder, he was on fire.\n",
            "\n",
            "my sister is visiting for the weekend from out west where she is a school teacher.\n",
            "\n",
            "\"Stop it! You're hurting me!\" I exclaimed, my fear coating every word.\n",
            "\n",
            "--In 1980, he kicked off his presidential campaign in Philadelphia, Mississippi, where in 1964 the local Klan killed three civil rights workers.\n",
            "\n",
            "Iginla helped set up Martin Gelinas' game-winning goal just 1:25 into overtime, and the Flames advanced.\n",
            "\n",
            "aren't any of the skilled intellectuals they've hired thinking to prevent REVOLUTION? Or do we seem more numb than we are?   My intuition works with my instict to fight \"conservative\", televised reporting.\n",
            "\n",
            "Please Comment more.\n",
            "\n",
            "The shit ain't side scrolling no more.\n",
            "\n",
            "“Doctor Steve Kolms will see you now.\n",
            "\n",
            "waiting for bola!!! portugal will win england.\n",
            "\n",
            "but anything that uses engery is never a good thing.\n",
            "\n",
            "Anyway, I told him I was gonna go and he asks for a kiss.\n",
            "\n",
            "This is based on rumors that \"have been circulating in northern Nigeria  that the vaccine is part of a US plot to limit the country's population by spreading Aids and rendering people infertile.\n",
            "\n",
            "The robin’s rounds In the tree…  The silent sounds Of summer too…  The days are here Of summer…  Go enjoy… A singing or silent  Moment or two!  By Rose Hill 6-6-04  Waiting for dad… Waiting in a hospital Waiting for some news.\n",
            "\n",
            "type of dealio, because i believe one of them was \"seeing\" Dan.\n",
            "\n",
            "Whiners (this goes back to yesterdays customers)  12.\n",
            "\n",
            "Anyway, that is a VERY long time off.\n",
            "\n",
            "bem aqui vou falar bosta a vointade.\n",
            "\n",
            "And once again my getting a greenlighted article from sootoday.\n",
            "\n",
            "Hopefully, I'll put in a better performance this week.\n",
            "\n",
            "now im pinned down by this.\n",
            "\n",
            "Kerry also  draws about nine in ten voters who say that the country is  heading in the wrong direction, while Bush claims the same  support among those who feel the country is headed in the  right direction.\n",
            "\n",
            "In Book XV, 6, he asks: \"Why is it that when the sun passes through quadri-laterals, as for instance in wickerwork, it does not produce a figure rectangular in shape but circular?\" In Book XV, 11, he asks his readers: \"Why is it that an eclipse of the sun, if one looks at it through a sieve or through leaves, such as a plane-tree or other broadleaved tree, or if one joins the fingers of one hand over the fingers of the other, the rays are crescent-shaped where they reach the earth? Is it for the same reason as that when light shines through a rectangular peep-hole, it appears circular in the form of a cone?\" Aristotle found no satisfactory explanation to his observation; the problem remained unresolved until the 16th century.\n",
            "\n",
            "Not to be outdone, Troy Edwards made the same move on Deke Cooper, leaving him to collect his jock strap as Troy made a nice catch on another Byron pass.\n",
            "\n",
            "not only was it congested with boats but the log boom surrounding the dock had been moved making the boat ramp/dock entrance wide enough only for about 1.\n",
            "\n",
            "Today we cleaned the first floor.\n",
            "\n",
            "I started up with it because I never felt comfortable in a church.\n",
            "\n",
            "My mom taught them cards, and she was not a merciful teacher.\n",
            "\n",
            "you are not alone.\n",
            "\n",
            "so in the afternoon is the sec kids' timeslot.\n",
            "\n",
            "I just smiled while thinking to myself that it's just gonna be another of those Hollywood type of movie.\n",
            "\n",
            "But there may be more substance to the big Paddy V rumours.\n",
            "\n",
            "We’ve known each other for years.\n",
            "\n",
            "The moment of truth.\n",
            "\n",
            "but also a little unfulfilled.\n",
            "\n",
            "Then, I got to go to sleep in my tent all alone with about a litre of water soaking into the foot of my sleeping bag.\n",
            "\n",
            "I don't feel as good about it as I thought I would, management didn't put up a fight.\n",
            "\n",
            "There is a urge to use my native language to write such diarial things as a blog, as a connection to the homeland and the people there.\n",
            "\n",
            "This is the second time the actions of the web ring leader, Matt Sias, have been questioned.\n",
            "\n",
            "School is now but a month away.\n",
            "\n",
            "Not for any particular reason that I can find, either.\n",
            "\n",
            "Previous yrs oso like tat clash wif all the camps.\n",
            "\n",
            "But I know once school starts, I'll be missing Lisa so much and getting down again.\n",
            "\n",
            "He said I was really dependant, and being depressed for stupid reasons, and I know.\n",
            "\n",
            "i wanted to know if there were other books that i could read by \"jonah black.\n",
            "\n",
            "Had an eating disorder?: nope 370.\n",
            "\n",
            "I jump at every nosie, peek round every corner, and have a friggin heart attack every time the wind blows the damn blinds behind me.\n",
            "\n",
            "I want you in my devaneios! In short, I want to make to moan you and to be the man happyest!.\n",
            "\n",
            "It's pretty funny when I look back on situations like this and think of how worked up I got over it.\n",
            "\n",
            "jus came back frm sch.\n",
            "\n",
            "and my mom doesn't even support my ambitions! I'll be happy.\n",
            "\n",
            ", i hope i get the electives i want for yr 9.\n",
            "\n",
            "I have actually used some of these things that I was taught and the reactions have ranged from genuinely charmed to compeltely puzzled.\n",
            "\n",
            "com , so you don't have to wait for Microsoft.\n",
            "\n",
            "And then enter \"D\".\n",
            "\n",
            "you can expect them to hang out a lot with my family now.\n",
            "\n",
            "But thanks to Holletts smarts in the HTML feild I got it done, I may learn it if I get bored.\n",
            "\n",
            "Strong centralizing impulse.\n",
            "\n",
            "Yuqi and her parents were back in time for lunch, so we all ate together.\n",
            "\n",
            "i can hardly breathe.\n",
            "\n",
            "The   pain I speak of is much more than that.\n",
            "\n",
            "coffee mug brimming with Starbucks coffee, I had no idea what a blog was.\n",
            "\n",
            "hehe i was Very tired.\n",
            "\n",
            "Some things are more expensive than others, but in the end - the more you have, the more you get; and then you have more, and get yet more.\n",
            "\n",
            "It can all go to hell too.\n",
            "\n",
            "Doesn't Costco sell enough shit, I mean you can get pretty much anything you need.\n",
            "\n",
            "Paul is 16, two years older than me.\n",
            "\n",
            "click on pic for a closer look.\n",
            "\n",
            "\"I'm sorry,\" I told Daren.\n",
            "\n",
            "it seems to be working.\n",
            "\n",
            "It is a huge industry to be in with loads of money being made by the recruiter.\n",
            "\n",
            "Regardless I feel disconnected so please inform me!!!!!.\n",
            "\n",
            "It was kewl!! E barber played rock music of e 80s while cutting my hair.\n",
            "\n",
            "and I need to wake up real early cos I'm still unsure of how to get to my classroom!!!!! So.\n",
            "\n",
            "That's great, but it is turning out to be a politician's promise, in that several times throughout the week both labs are inaccessible to students due to classes.\n",
            "\n",
            "go back in the house.\n",
            "\n",
            "Boleh bermain, belajar dan makan tanpa kesakitan.\n",
            "\n",
            "what is even more amazing is that as we win gold medals in all these less than fashionable events you just know that their achievements will be soon forgotten by the majority of us as they are not football players, cricketers, runners in the athletics.\n",
            "\n",
            "I'm a cradle Catholic: my mother taught parochial school for more than a decade (at the school my sister and I attended, no less!), we attend church every Sunday, and sometimes the priest joins us afterwards for breakfast.\n",
            "\n",
            "Secondly, all honours issued in Canada, like the Order of Canada, flow from the fountain who is the Queen.\n",
            "\n"
          ],
          "name": "stdout"
        }
      ]
    },
    {
      "cell_type": "code",
      "metadata": {
        "id": "0KhSQ0slK44g",
        "colab_type": "code",
        "colab": {
          "base_uri": "https://localhost:8080/",
          "height": 34
        },
        "outputId": "d20d3840-9e04-4645-c77e-cbc559f35ff9"
      },
      "source": [
        "!ls "
      ],
      "execution_count": 7,
      "outputs": [
        {
          "output_type": "stream",
          "text": [
            "blogs  drive  MarathonTextGenRNN  sample_data\n"
          ],
          "name": "stdout"
        }
      ]
    },
    {
      "cell_type": "code",
      "metadata": {
        "id": "UgUgVhnjWIJJ",
        "colab_type": "code",
        "colab": {}
      },
      "source": [
        "!cp \"data.txt\" \"drive/My Drive/blogs_prep.txt\""
      ],
      "execution_count": 0,
      "outputs": []
    },
    {
      "cell_type": "code",
      "metadata": {
        "id": "TA02R_x4Wl05",
        "colab_type": "code",
        "colab": {
          "base_uri": "https://localhost:8080/",
          "height": 123
        },
        "outputId": "994c7464-6319-4c0e-a2ce-6b769e3583a5"
      },
      "source": [
        "!git clone \"https://github.com/jessefreeman/MarathonTextGenRNN.git\""
      ],
      "execution_count": 28,
      "outputs": [
        {
          "output_type": "stream",
          "text": [
            "Cloning into 'MarathonTextGenRNN'...\n",
            "remote: Enumerating objects: 42, done.\u001b[K\n",
            "remote: Counting objects:   2% (1/42)\u001b[K\rremote: Counting objects:   4% (2/42)\u001b[K\rremote: Counting objects:   7% (3/42)\u001b[K\rremote: Counting objects:   9% (4/42)\u001b[K\rremote: Counting objects:  11% (5/42)\u001b[K\rremote: Counting objects:  14% (6/42)\u001b[K\rremote: Counting objects:  16% (7/42)\u001b[K\rremote: Counting objects:  19% (8/42)\u001b[K\rremote: Counting objects:  21% (9/42)\u001b[K\rremote: Counting objects:  23% (10/42)\u001b[K\rremote: Counting objects:  26% (11/42)\u001b[K\rremote: Counting objects:  28% (12/42)\u001b[K\rremote: Counting objects:  30% (13/42)\u001b[K\rremote: Counting objects:  33% (14/42)\u001b[K\rremote: Counting objects:  35% (15/42)\u001b[K\rremote: Counting objects:  38% (16/42)\u001b[K\rremote: Counting objects:  40% (17/42)\u001b[K\rremote: Counting objects:  42% (18/42)\u001b[K\rremote: Counting objects:  45% (19/42)\u001b[K\rremote: Counting objects:  47% (20/42)\u001b[K\rremote: Counting objects:  50% (21/42)\u001b[K\rremote: Counting objects:  52% (22/42)\u001b[K\rremote: Counting objects:  54% (23/42)\u001b[K\rremote: Counting objects:  57% (24/42)\u001b[K\rremote: Counting objects:  59% (25/42)\u001b[K\rremote: Counting objects:  61% (26/42)\u001b[K\rremote: Counting objects:  64% (27/42)\u001b[K\rremote: Counting objects:  66% (28/42)\u001b[K\rremote: Counting objects:  69% (29/42)\u001b[K\rremote: Counting objects:  71% (30/42)\u001b[K\rremote: Counting objects:  73% (31/42)\u001b[K\rremote: Counting objects:  76% (32/42)\u001b[K\rremote: Counting objects:  78% (33/42)\u001b[K\rremote: Counting objects:  80% (34/42)\u001b[K\rremote: Counting objects:  83% (35/42)\u001b[K\rremote: Counting objects:  85% (36/42)\u001b[K\rremote: Counting objects:  88% (37/42)\u001b[K\rremote: Counting objects:  90% (38/42)\u001b[K\rremote: Counting objects:  92% (39/42)\u001b[K\rremote: Counting objects:  95% (40/42)\u001b[K\rremote: Counting objects:  97% (41/42)\u001b[K\rremote: Counting objects: 100% (42/42)\u001b[K\rremote: Counting objects: 100% (42/42), done.\u001b[K\n",
            "remote: Compressing objects: 100% (29/29), done.\u001b[K\n",
            "remote: Total 42 (delta 16), reused 37 (delta 11), pack-reused 0\u001b[K\n",
            "Unpacking objects: 100% (42/42), done.\n"
          ],
          "name": "stdout"
        }
      ]
    },
    {
      "cell_type": "code",
      "metadata": {
        "id": "66pidiJoWyTl",
        "colab_type": "code",
        "colab": {
          "base_uri": "https://localhost:8080/",
          "height": 34
        },
        "outputId": "6635d962-1eae-436b-e0c3-2782f5477ecd"
      },
      "source": [
        "cd 'MarathonTextGenRNN'"
      ],
      "execution_count": 10,
      "outputs": [
        {
          "output_type": "stream",
          "text": [
            "/content/MarathonTextGenRNN\n"
          ],
          "name": "stdout"
        }
      ]
    },
    {
      "cell_type": "code",
      "metadata": {
        "id": "Fhmo9P12XOQ-",
        "colab_type": "code",
        "colab": {}
      },
      "source": [
        "!mkdir outputs"
      ],
      "execution_count": 0,
      "outputs": []
    },
    {
      "cell_type": "code",
      "metadata": {
        "id": "TlaiO3lTXT3U",
        "colab_type": "code",
        "colab": {
          "base_uri": "https://localhost:8080/",
          "height": 1000
        },
        "outputId": "a17486e6-a5ab-4eb5-e527-3168873d9e9b"
      },
      "source": [
        "!python train.py"
      ],
      "execution_count": 0,
      "outputs": [
        {
          "output_type": "stream",
          "text": [
            "Using TensorFlow backend.\n",
            "WARNING:tensorflow:From /usr/local/lib/python3.6/dist-packages/keras/backend/tensorflow_backend.py:541: The name tf.placeholder is deprecated. Please use tf.compat.v1.placeholder instead.\n",
            "\n",
            "WARNING:tensorflow:From /usr/local/lib/python3.6/dist-packages/keras/backend/tensorflow_backend.py:4432: The name tf.random_uniform is deprecated. Please use tf.random.uniform instead.\n",
            "\n",
            "WARNING:tensorflow:From /usr/local/lib/python3.6/dist-packages/keras/backend/tensorflow_backend.py:190: The name tf.get_default_session is deprecated. Please use tf.compat.v1.get_default_session instead.\n",
            "\n",
            "WARNING:tensorflow:From /usr/local/lib/python3.6/dist-packages/keras/backend/tensorflow_backend.py:197: The name tf.ConfigProto is deprecated. Please use tf.compat.v1.ConfigProto instead.\n",
            "\n",
            "WARNING:tensorflow:From /usr/local/lib/python3.6/dist-packages/keras/backend/tensorflow_backend.py:203: The name tf.Session is deprecated. Please use tf.compat.v1.Session instead.\n",
            "\n",
            "2019-12-20 18:11:20.964439: I tensorflow/core/platform/profile_utils/cpu_utils.cc:94] CPU Frequency: 2300000000 Hz\n",
            "2019-12-20 18:11:20.964717: I tensorflow/compiler/xla/service/service.cc:168] XLA service 0x20fabc0 initialized for platform Host (this does not guarantee that XLA will be used). Devices:\n",
            "2019-12-20 18:11:20.964753: I tensorflow/compiler/xla/service/service.cc:176]   StreamExecutor device (0): Host, Default Version\n",
            "2019-12-20 18:11:20.966669: I tensorflow/stream_executor/platform/default/dso_loader.cc:44] Successfully opened dynamic library libcuda.so.1\n",
            "2019-12-20 18:11:21.073510: I tensorflow/stream_executor/cuda/cuda_gpu_executor.cc:983] successful NUMA node read from SysFS had negative value (-1), but there must be at least one NUMA node, so returning NUMA node zero\n",
            "2019-12-20 18:11:21.074624: I tensorflow/compiler/xla/service/service.cc:168] XLA service 0x20fad80 initialized for platform CUDA (this does not guarantee that XLA will be used). Devices:\n",
            "2019-12-20 18:11:21.074663: I tensorflow/compiler/xla/service/service.cc:176]   StreamExecutor device (0): Tesla P100-PCIE-16GB, Compute Capability 6.0\n",
            "2019-12-20 18:11:21.074928: I tensorflow/stream_executor/cuda/cuda_gpu_executor.cc:983] successful NUMA node read from SysFS had negative value (-1), but there must be at least one NUMA node, so returning NUMA node zero\n",
            "2019-12-20 18:11:21.075672: I tensorflow/core/common_runtime/gpu/gpu_device.cc:1618] Found device 0 with properties: \n",
            "name: Tesla P100-PCIE-16GB major: 6 minor: 0 memoryClockRate(GHz): 1.3285\n",
            "pciBusID: 0000:00:04.0\n",
            "2019-12-20 18:11:21.075978: I tensorflow/stream_executor/platform/default/dso_loader.cc:44] Successfully opened dynamic library libcudart.so.10.1\n",
            "2019-12-20 18:11:21.077437: I tensorflow/stream_executor/platform/default/dso_loader.cc:44] Successfully opened dynamic library libcublas.so.10\n",
            "2019-12-20 18:11:21.079129: I tensorflow/stream_executor/platform/default/dso_loader.cc:44] Successfully opened dynamic library libcufft.so.10\n",
            "2019-12-20 18:11:21.079411: I tensorflow/stream_executor/platform/default/dso_loader.cc:44] Successfully opened dynamic library libcurand.so.10\n",
            "2019-12-20 18:11:21.080983: I tensorflow/stream_executor/platform/default/dso_loader.cc:44] Successfully opened dynamic library libcusolver.so.10\n",
            "2019-12-20 18:11:21.081648: I tensorflow/stream_executor/platform/default/dso_loader.cc:44] Successfully opened dynamic library libcusparse.so.10\n",
            "2019-12-20 18:11:21.085881: I tensorflow/stream_executor/platform/default/dso_loader.cc:44] Successfully opened dynamic library libcudnn.so.7\n",
            "2019-12-20 18:11:21.086105: I tensorflow/stream_executor/cuda/cuda_gpu_executor.cc:983] successful NUMA node read from SysFS had negative value (-1), but there must be at least one NUMA node, so returning NUMA node zero\n",
            "2019-12-20 18:11:21.087165: I tensorflow/stream_executor/cuda/cuda_gpu_executor.cc:983] successful NUMA node read from SysFS had negative value (-1), but there must be at least one NUMA node, so returning NUMA node zero\n",
            "2019-12-20 18:11:21.088026: I tensorflow/core/common_runtime/gpu/gpu_device.cc:1746] Adding visible gpu devices: 0\n",
            "2019-12-20 18:11:21.088081: I tensorflow/stream_executor/platform/default/dso_loader.cc:44] Successfully opened dynamic library libcudart.so.10.1\n",
            "2019-12-20 18:11:21.089613: I tensorflow/core/common_runtime/gpu/gpu_device.cc:1159] Device interconnect StreamExecutor with strength 1 edge matrix:\n",
            "2019-12-20 18:11:21.089640: I tensorflow/core/common_runtime/gpu/gpu_device.cc:1165]      0 \n",
            "2019-12-20 18:11:21.089651: I tensorflow/core/common_runtime/gpu/gpu_device.cc:1178] 0:   N \n",
            "2019-12-20 18:11:21.089791: I tensorflow/stream_executor/cuda/cuda_gpu_executor.cc:983] successful NUMA node read from SysFS had negative value (-1), but there must be at least one NUMA node, so returning NUMA node zero\n",
            "2019-12-20 18:11:21.090584: I tensorflow/stream_executor/cuda/cuda_gpu_executor.cc:983] successful NUMA node read from SysFS had negative value (-1), but there must be at least one NUMA node, so returning NUMA node zero\n",
            "2019-12-20 18:11:21.091327: W tensorflow/core/common_runtime/gpu/gpu_bfc_allocator.cc:39] Overriding allow_growth setting because the TF_FORCE_GPU_ALLOW_GROWTH environment variable is set. Original config value was 0.\n",
            "2019-12-20 18:11:21.091381: I tensorflow/core/common_runtime/gpu/gpu_device.cc:1304] Created TensorFlow device (/job:localhost/replica:0/task:0/device:GPU:0 with 15216 MB memory) -> physical GPU (device: 0, name: Tesla P100-PCIE-16GB, pci bus id: 0000:00:04.0, compute capability: 6.0)\n",
            "WARNING:tensorflow:From /usr/local/lib/python3.6/dist-packages/keras/backend/tensorflow_backend.py:207: The name tf.global_variables is deprecated. Please use tf.compat.v1.global_variables instead.\n",
            "\n",
            "WARNING:tensorflow:From /usr/local/lib/python3.6/dist-packages/keras/backend/tensorflow_backend.py:216: The name tf.is_variable_initialized is deprecated. Please use tf.compat.v1.is_variable_initialized instead.\n",
            "\n",
            "WARNING:tensorflow:From /usr/local/lib/python3.6/dist-packages/keras/backend/tensorflow_backend.py:223: The name tf.variables_initializer is deprecated. Please use tf.compat.v1.variables_initializer instead.\n",
            "\n",
            "WARNING:tensorflow:From /usr/local/lib/python3.6/dist-packages/keras/backend/tensorflow_backend.py:66: The name tf.get_default_graph is deprecated. Please use tf.compat.v1.get_default_graph instead.\n",
            "\n",
            "WARNING:tensorflow:From /usr/local/lib/python3.6/dist-packages/keras/optimizers.py:793: The name tf.train.Optimizer is deprecated. Please use tf.compat.v1.train.Optimizer instead.\n",
            "\n",
            "WARNING:tensorflow:From /usr/local/lib/python3.6/dist-packages/keras/backend/tensorflow_backend.py:3576: The name tf.log is deprecated. Please use tf.math.log instead.\n",
            "\n",
            "6,062 texts collected.\n",
            "Training new model w/ 4-layer, 128-cell Bidirectional LSTMs\n",
            "Training on 108,647 word sequences.\n",
            "WARNING:tensorflow:From /usr/local/lib/python3.6/dist-packages/tensorflow_core/python/ops/math_grad.py:1424: where (from tensorflow.python.ops.array_ops) is deprecated and will be removed in a future version.\n",
            "Instructions for updating:\n",
            "Use tf.where in 2.0, which has the same broadcast rule as np.where\n",
            "WARNING:tensorflow:From /usr/local/lib/python3.6/dist-packages/keras/backend/tensorflow_backend.py:1033: The name tf.assign_add is deprecated. Please use tf.compat.v1.assign_add instead.\n",
            "\n",
            "WARNING:tensorflow:From /usr/local/lib/python3.6/dist-packages/keras/backend/tensorflow_backend.py:1020: The name tf.assign is deprecated. Please use tf.compat.v1.assign instead.\n",
            "\n",
            "Epoch 1/100\n",
            "2019-12-20 18:11:29.852450: I tensorflow/stream_executor/platform/default/dso_loader.cc:44] Successfully opened dynamic library libcublas.so.10\n",
            "2019-12-20 18:11:30.338750: I tensorflow/stream_executor/platform/default/dso_loader.cc:44] Successfully opened dynamic library libcudnn.so.7\n",
            "106/106 [==============================] - 18s 171ms/step - loss: 6.6214 - val_loss: 6.0305\n",
            "####################\n",
            "Temperature: 0.2\n",
            "####################\n",
            "i i i i a the .\n",
            "\n",
            "i i ' to to to .\n",
            "\n",
            "i i ' ' a .\n",
            "\n",
            "####################\n",
            "Temperature: 0.5\n",
            "####################\n",
            "i i me a my what , her .\n",
            "\n",
            "i i i it , you next ) the .\n",
            "\n",
            "had it t it is , .\n",
            "\n",
            "####################\n",
            "Temperature: 1.0\n",
            "####################\n",
            "my got or gladly even we tv speaking to sp4re im making i .\n",
            "\n",
            "and get also about style on next to barrel\n",
            "\n",
            "thinking troops tomorrow wife on like hair least to good force , .\n",
            "\n",
            "Epoch 2/100\n",
            "106/106 [==============================] - 12s 118ms/step - loss: 5.6103 - val_loss: 5.6916\n",
            "####################\n",
            "Temperature: 0.2\n",
            "####################\n",
            "i ' s a whole of , but i ' s the time .\n",
            "\n",
            "i ' s the thing , i ' s a new olympics .\n",
            "\n",
            "i ' s the whole of the olympics - - - - - - - - - - - - - - - - - - - - - - - - - - - - - - - - - - - - - - - - - - - - - - - - - - - - - - - - - - - - - - - - - - - - - - - - - - - - - - - - - - - - - - - - - - - - - - - - - - - - - - - - - - - - - - - - - - - - - - - - - - - - - - - - - - - - - - - - - - - - - - - - - - - - - - - - - - - - - - - - - - - - - - - - - - - - - - - - - - - - - - - - - - - - - - - - - - - - - - - - - - - - - - - - - - - - - - - - - - - - - - - - - - - - - - - - - - - - - - - - - - - - - - - - - - - - - - - - - - - - - - - - - - - - - - - - - - - - - - - - - - - - - - - - - - -\n",
            "\n",
            "####################\n",
            "Temperature: 0.5\n",
            "####################\n",
            "he ' s a links , i ' s him .\n",
            "\n",
            "so i have to be a brother .\n",
            "\n",
            "the world of , something i ' s the family .\n",
            "\n",
            "####################\n",
            "Temperature: 1.0\n",
            "####################\n",
            "/ scene .\n",
            "\n",
            "sense was through seasoned on summer '\n",
            "\n",
            "haha entry old left ( died ' s if carpenter , im a loved before is least tuesday is like yet during were daily today god the experience and the whole group n a kid you doesnt been the night in stuck a friend and you had the dad .\n",
            "\n",
            "Epoch 3/100\n",
            "106/106 [==============================] - 12s 118ms/step - loss: 5.1053 - val_loss: 5.7563\n",
            "####################\n",
            "Temperature: 0.2\n",
            "####################\n",
            "i ' m really going to be a lot of the same own .\n",
            "\n",
            "i ' m really a really really am going to be going to be going to be a dad .\n",
            "\n",
            "i ' m really really know that i am going to be going to be a lot of the world - law - - - - - - - - - - - - - - - - - - - - - - - - - - - - - - - - - - - - - - - - - - - - - - - - - - - - - - - - - - - - - - - - - - - - - - - - - - - - - - - - - - - - - - - - - - - - - - - - - - - - - - - - - - - - - - - - - - - - - - - - - - - - - - - - - - - - - - - - - - - - - - - - - - - - - - - - - - - - - - - - - - - - - - - - - - - - - - - - - - - - - - - - - - - - - - - - - - - - - - - - - - - - - - - - - - - - - - - - - - - - - - - - - - - - - - - - - - - - - - - - - - - - - - - - - - - - - - - - - - - - - - - - - - - - - - - - - - - - -\n",
            "\n",
            "####################\n",
            "Temperature: 0.5\n",
            "####################\n",
            "i was a good mind .\n",
            "\n",
            "to be a lot of a good person .\n",
            "\n",
            "i ' m really really feel a lot world , but i ' m going to be laundry .\n",
            "\n",
            "####################\n",
            "Temperature: 1.0\n",
            "####################\n",
            "and despite married all what you will for us happiness me that i were very better unlike for thoughts outside wif the way offspring .\n",
            "\n",
            "the fun where you are breakfasts yesterday and try it someone i do reading you after \" ya is it on my computer ones and the very time from be playing \" my one state .\n",
            "\n",
            "i remembered been pretty begining .\n",
            "\n",
            "Epoch 4/100\n",
            "106/106 [==============================] - 13s 118ms/step - loss: 4.6856 - val_loss: 5.7981\n",
            "####################\n",
            "Temperature: 0.2\n",
            "####################\n",
            "i think i am not a good person .\n",
            "\n",
            "i think i am not not .\n",
            "\n",
            "i think i ' m not not not i am so i am happening to be so i ' m not not not not not so i am not not happening to be not not not happening to be not not not not not you .\n",
            "\n",
            "####################\n",
            "Temperature: 0.5\n",
            "####################\n",
            "i think i would have so a good of something about a good morning , it ' s gonna know .\n",
            "\n",
            "i ' m not doing the time , i have been to be so what i am not not a so much and i am not not going to be not to be not do it .\n",
            "\n",
            "i have to be a good of the \" - law i have been so , i read .\n",
            "\n",
            "####################\n",
            "Temperature: 1.0\n",
            "####################\n",
            "beetles material , the angels farm do the longer me , \" why happened recently .\n",
            "\n",
            "i ' i try to update the worst long that it was like there , go 24 to share the reagan who is with of the costas or realized they am playing a great year on all that of our source and celebrate national , and doesn the canadian angels fight about josh it can be televised it was on the mac for all and people can ' t do that and so they ' m a dr person will be like .\n",
            "\n",
            "so when i was why you quickly katherine it ? well ! ! you is .\n",
            "\n",
            "Epoch 5/100\n",
            "106/106 [==============================] - 13s 124ms/step - loss: 4.2561 - val_loss: 5.9223\n",
            "####################\n",
            "Temperature: 0.2\n",
            "####################\n",
            "i ' m not the holiday .\n",
            "\n",
            "i ' m not sure i ' m fabulous ! i am in the formula that not .\n",
            "\n",
            "i ' m not sure that i ' t have not happening to advertise .\n",
            "\n",
            "####################\n",
            "Temperature: 0.5\n",
            "####################\n",
            "i was , i ' ve going to talk to it about .\n",
            "\n",
            "we ' re the day .\n",
            "\n",
            "so i was so much .\n",
            "\n",
            "####################\n",
            "Temperature: 1.0\n",
            "####################\n",
            "body has like your other day .\n",
            "\n",
            "com if you get it like my human hours at me ( agen .\n",
            "\n",
            "am we that im nice .\n",
            "\n",
            "Epoch 6/100\n",
            "106/106 [==============================] - 14s 136ms/step - loss: 3.8226 - val_loss: 6.0775\n",
            "####################\n",
            "Temperature: 0.2\n",
            "####################\n",
            "i ' m not sure that ' s been ones , but i couldnt have no sick of a new time , but i can ' t get to work .\n",
            "\n",
            "i ' m not sure about the last time i ' m going to be more bed .\n",
            "\n",
            "i ' m not sure where i ' m going to desert in my life .\n",
            "\n",
            "####################\n",
            "Temperature: 0.5\n",
            "####################\n",
            "i am not sure the friendship is happy .\n",
            "\n",
            "i just ' m looking to see .\n",
            "\n",
            "i ' m really a medium about the moment , i just ' re omit more up .\n",
            "\n",
            "####################\n",
            "Temperature: 1.0\n",
            "####################\n",
            "felt long day and there is a stoned season .\n",
            "\n",
            "well , i don ' t believe that role doesn ' t have problems .\n",
            "\n",
            "however is the rest of all , here , large other pills is no direction ? they ' re ok really that will be attacking that i ’ m able to probably take a overview of it .\n",
            "\n",
            "Epoch 7/100\n",
            "103/106 [============================>.] - ETA: 0s - loss: 3.3936"
          ],
          "name": "stdout"
        }
      ]
    },
    {
      "cell_type": "code",
      "metadata": {
        "id": "2jYjz9ImXl5X",
        "colab_type": "code",
        "colab": {
          "base_uri": "https://localhost:8080/",
          "height": 1000
        },
        "outputId": "4a7c086f-333b-4e2c-9ccd-624e06775a61"
      },
      "source": [
        "!python generate.py"
      ],
      "execution_count": 12,
      "outputs": [
        {
          "output_type": "stream",
          "text": [
            "Using TensorFlow backend.\n",
            "WARNING:tensorflow:From /usr/local/lib/python3.6/dist-packages/keras/backend/tensorflow_backend.py:541: The name tf.placeholder is deprecated. Please use tf.compat.v1.placeholder instead.\n",
            "\n",
            "WARNING:tensorflow:From /usr/local/lib/python3.6/dist-packages/keras/backend/tensorflow_backend.py:4432: The name tf.random_uniform is deprecated. Please use tf.random.uniform instead.\n",
            "\n",
            "WARNING:tensorflow:From /usr/local/lib/python3.6/dist-packages/keras/backend/tensorflow_backend.py:190: The name tf.get_default_session is deprecated. Please use tf.compat.v1.get_default_session instead.\n",
            "\n",
            "WARNING:tensorflow:From /usr/local/lib/python3.6/dist-packages/keras/backend/tensorflow_backend.py:197: The name tf.ConfigProto is deprecated. Please use tf.compat.v1.ConfigProto instead.\n",
            "\n",
            "WARNING:tensorflow:From /usr/local/lib/python3.6/dist-packages/keras/backend/tensorflow_backend.py:203: The name tf.Session is deprecated. Please use tf.compat.v1.Session instead.\n",
            "\n",
            "2019-12-20 18:05:58.399385: I tensorflow/core/platform/profile_utils/cpu_utils.cc:94] CPU Frequency: 2300000000 Hz\n",
            "2019-12-20 18:05:58.399584: I tensorflow/compiler/xla/service/service.cc:168] XLA service 0x1c00bc0 initialized for platform Host (this does not guarantee that XLA will be used). Devices:\n",
            "2019-12-20 18:05:58.399625: I tensorflow/compiler/xla/service/service.cc:176]   StreamExecutor device (0): Host, Default Version\n",
            "2019-12-20 18:05:58.401546: I tensorflow/stream_executor/platform/default/dso_loader.cc:44] Successfully opened dynamic library libcuda.so.1\n",
            "2019-12-20 18:05:58.506376: I tensorflow/stream_executor/cuda/cuda_gpu_executor.cc:983] successful NUMA node read from SysFS had negative value (-1), but there must be at least one NUMA node, so returning NUMA node zero\n",
            "2019-12-20 18:05:58.507327: I tensorflow/compiler/xla/service/service.cc:168] XLA service 0x1c00d80 initialized for platform CUDA (this does not guarantee that XLA will be used). Devices:\n",
            "2019-12-20 18:05:58.507353: I tensorflow/compiler/xla/service/service.cc:176]   StreamExecutor device (0): Tesla P100-PCIE-16GB, Compute Capability 6.0\n",
            "2019-12-20 18:05:58.507513: I tensorflow/stream_executor/cuda/cuda_gpu_executor.cc:983] successful NUMA node read from SysFS had negative value (-1), but there must be at least one NUMA node, so returning NUMA node zero\n",
            "2019-12-20 18:05:58.508315: I tensorflow/core/common_runtime/gpu/gpu_device.cc:1618] Found device 0 with properties: \n",
            "name: Tesla P100-PCIE-16GB major: 6 minor: 0 memoryClockRate(GHz): 1.3285\n",
            "pciBusID: 0000:00:04.0\n",
            "2019-12-20 18:05:58.508599: I tensorflow/stream_executor/platform/default/dso_loader.cc:44] Successfully opened dynamic library libcudart.so.10.1\n",
            "2019-12-20 18:05:58.510295: I tensorflow/stream_executor/platform/default/dso_loader.cc:44] Successfully opened dynamic library libcublas.so.10\n",
            "2019-12-20 18:05:58.511924: I tensorflow/stream_executor/platform/default/dso_loader.cc:44] Successfully opened dynamic library libcufft.so.10\n",
            "2019-12-20 18:05:58.512246: I tensorflow/stream_executor/platform/default/dso_loader.cc:44] Successfully opened dynamic library libcurand.so.10\n",
            "2019-12-20 18:05:58.513936: I tensorflow/stream_executor/platform/default/dso_loader.cc:44] Successfully opened dynamic library libcusolver.so.10\n",
            "2019-12-20 18:05:58.514755: I tensorflow/stream_executor/platform/default/dso_loader.cc:44] Successfully opened dynamic library libcusparse.so.10\n",
            "2019-12-20 18:05:58.518099: I tensorflow/stream_executor/platform/default/dso_loader.cc:44] Successfully opened dynamic library libcudnn.so.7\n",
            "2019-12-20 18:05:58.518245: I tensorflow/stream_executor/cuda/cuda_gpu_executor.cc:983] successful NUMA node read from SysFS had negative value (-1), but there must be at least one NUMA node, so returning NUMA node zero\n",
            "2019-12-20 18:05:58.519344: I tensorflow/stream_executor/cuda/cuda_gpu_executor.cc:983] successful NUMA node read from SysFS had negative value (-1), but there must be at least one NUMA node, so returning NUMA node zero\n",
            "2019-12-20 18:05:58.520148: I tensorflow/core/common_runtime/gpu/gpu_device.cc:1746] Adding visible gpu devices: 0\n",
            "2019-12-20 18:05:58.520198: I tensorflow/stream_executor/platform/default/dso_loader.cc:44] Successfully opened dynamic library libcudart.so.10.1\n",
            "2019-12-20 18:05:58.521699: I tensorflow/core/common_runtime/gpu/gpu_device.cc:1159] Device interconnect StreamExecutor with strength 1 edge matrix:\n",
            "2019-12-20 18:05:58.521726: I tensorflow/core/common_runtime/gpu/gpu_device.cc:1165]      0 \n",
            "2019-12-20 18:05:58.521737: I tensorflow/core/common_runtime/gpu/gpu_device.cc:1178] 0:   N \n",
            "2019-12-20 18:05:58.521860: I tensorflow/stream_executor/cuda/cuda_gpu_executor.cc:983] successful NUMA node read from SysFS had negative value (-1), but there must be at least one NUMA node, so returning NUMA node zero\n",
            "2019-12-20 18:05:58.522984: I tensorflow/stream_executor/cuda/cuda_gpu_executor.cc:983] successful NUMA node read from SysFS had negative value (-1), but there must be at least one NUMA node, so returning NUMA node zero\n",
            "2019-12-20 18:05:58.523883: W tensorflow/core/common_runtime/gpu/gpu_bfc_allocator.cc:39] Overriding allow_growth setting because the TF_FORCE_GPU_ALLOW_GROWTH environment variable is set. Original config value was 0.\n",
            "2019-12-20 18:05:58.523924: I tensorflow/core/common_runtime/gpu/gpu_device.cc:1304] Created TensorFlow device (/job:localhost/replica:0/task:0/device:GPU:0 with 15216 MB memory) -> physical GPU (device: 0, name: Tesla P100-PCIE-16GB, pci bus id: 0000:00:04.0, compute capability: 6.0)\n",
            "WARNING:tensorflow:From /usr/local/lib/python3.6/dist-packages/keras/backend/tensorflow_backend.py:207: The name tf.global_variables is deprecated. Please use tf.compat.v1.global_variables instead.\n",
            "\n",
            "WARNING:tensorflow:From /usr/local/lib/python3.6/dist-packages/keras/backend/tensorflow_backend.py:216: The name tf.is_variable_initialized is deprecated. Please use tf.compat.v1.is_variable_initialized instead.\n",
            "\n",
            "WARNING:tensorflow:From /usr/local/lib/python3.6/dist-packages/keras/backend/tensorflow_backend.py:223: The name tf.variables_initializer is deprecated. Please use tf.compat.v1.variables_initializer instead.\n",
            "\n",
            "WARNING:tensorflow:From /usr/local/lib/python3.6/dist-packages/keras/backend/tensorflow_backend.py:66: The name tf.get_default_graph is deprecated. Please use tf.compat.v1.get_default_graph instead.\n",
            "\n",
            "WARNING:tensorflow:From /usr/local/lib/python3.6/dist-packages/keras/optimizers.py:793: The name tf.train.Optimizer is deprecated. Please use tf.compat.v1.train.Optimizer instead.\n",
            "\n",
            "WARNING:tensorflow:From /usr/local/lib/python3.6/dist-packages/keras/backend/tensorflow_backend.py:3576: The name tf.log is deprecated. Please use tf.math.log instead.\n",
            "\n",
            "  0% 0/1000 [00:00<?, ?it/s]2019-12-20 18:06:01.314119: I tensorflow/stream_executor/platform/default/dso_loader.cc:44] Successfully opened dynamic library libcublas.so.10\n",
            "2019-12-20 18:06:01.572163: I tensorflow/stream_executor/platform/default/dso_loader.cc:44] Successfully opened dynamic library libcudnn.so.7\n",
            "100% 1000/1000 [01:53<00:00,  9.69it/s]\n"
          ],
          "name": "stdout"
        }
      ]
    },
    {
      "cell_type": "code",
      "metadata": {
        "id": "KTJWY_UefMgN",
        "colab_type": "code",
        "colab": {}
      },
      "source": [
        ""
      ],
      "execution_count": 0,
      "outputs": []
    }
  ]
}